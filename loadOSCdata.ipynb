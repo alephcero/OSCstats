{
 "cells": [
  {
   "cell_type": "code",
   "execution_count": 59,
   "metadata": {
    "collapsed": true
   },
   "outputs": [],
   "source": [
    "import pandas as pd\n",
    "import geopandas as gpd\n",
    "import datetime\n",
    "import numpy as np\n",
    "from shapely.geometry import Point, LineString\n",
    "import shapely.wkt\n",
    "import matplotlib.pyplot as plt\n",
    "%matplotlib inline\n",
    "\n",
    "#doc on accelerometer\n",
    "# http://www.starlino.com/imu_guide.html"
   ]
  },
  {
   "cell_type": "markdown",
   "metadata": {},
   "source": [
    "## Load original data"
   ]
  },
  {
   "cell_type": "code",
   "execution_count": 2,
   "metadata": {
    "collapsed": false
   },
   "outputs": [
    {
     "name": "stdout",
     "output_type": "stream",
     "text": [
      "phone info: motorola Moto G (4);7.0;1.1.6;2.0.10;photo\n",
      "\n"
     ]
    }
   ],
   "source": [
    "#phone info\n",
    "f = open('../data/SEQ_0/track.txt','r')\n",
    "phone = f.readline()\n",
    "print 'phone info:',phone\n",
    "f.close()\n",
    "\n"
   ]
  },
  {
   "cell_type": "code",
   "execution_count": 40,
   "metadata": {
    "collapsed": false
   },
   "outputs": [
    {
     "data": {
      "text/html": [
       "<div>\n",
       "<table border=\"1\" class=\"dataframe\">\n",
       "  <thead>\n",
       "    <tr style=\"text-align: right;\">\n",
       "      <th></th>\n",
       "      <th>timestamp</th>\n",
       "      <th>photo</th>\n",
       "    </tr>\n",
       "  </thead>\n",
       "  <tbody>\n",
       "    <tr>\n",
       "      <th>4491</th>\n",
       "      <td>1.494902e+09</td>\n",
       "      <td>0.0</td>\n",
       "    </tr>\n",
       "    <tr>\n",
       "      <th>5630</th>\n",
       "      <td>1.494902e+09</td>\n",
       "      <td>1.0</td>\n",
       "    </tr>\n",
       "    <tr>\n",
       "      <th>6245</th>\n",
       "      <td>1.494902e+09</td>\n",
       "      <td>2.0</td>\n",
       "    </tr>\n",
       "    <tr>\n",
       "      <th>7128</th>\n",
       "      <td>1.494902e+09</td>\n",
       "      <td>3.0</td>\n",
       "    </tr>\n",
       "    <tr>\n",
       "      <th>7737</th>\n",
       "      <td>1.494902e+09</td>\n",
       "      <td>4.0</td>\n",
       "    </tr>\n",
       "  </tbody>\n",
       "</table>\n",
       "</div>"
      ],
      "text/plain": [
       "         timestamp  photo\n",
       "4491  1.494902e+09    0.0\n",
       "5630  1.494902e+09    1.0\n",
       "6245  1.494902e+09    2.0\n",
       "7128  1.494902e+09    3.0\n",
       "7737  1.494902e+09    4.0"
      ]
     },
     "execution_count": 40,
     "metadata": {},
     "output_type": "execute_result"
    }
   ],
   "source": [
    "photos = pd.read_csv('../data/SEQ_1/track.txt',sep=';',\n",
    "                   skiprows=[0],\n",
    "                   skipfooter=1,\n",
    "                     usecols=[0,15],\n",
    "                   header=None,\n",
    "                   engine = 'python')\n",
    "photos.columns = ['timestamp','photo']\n",
    "photos = photos.loc[~(photos['photo'].isnull()),:]\n",
    "photos.head()"
   ]
  },
  {
   "cell_type": "code",
   "execution_count": 44,
   "metadata": {
    "collapsed": false
   },
   "outputs": [
    {
     "data": {
      "text/plain": [
       "1494901712.3900001"
      ]
     },
     "execution_count": 44,
     "metadata": {},
     "output_type": "execute_result"
    }
   ],
   "source": [
    "photos['timestamp'][4491]"
   ]
  },
  {
   "cell_type": "code",
   "execution_count": 53,
   "metadata": {
    "collapsed": false
   },
   "outputs": [
    {
     "data": {
      "text/html": [
       "<div>\n",
       "<table border=\"1\" class=\"dataframe\">\n",
       "  <thead>\n",
       "    <tr style=\"text-align: right;\">\n",
       "      <th></th>\n",
       "      <th>timestamp</th>\n",
       "      <th>long</th>\n",
       "      <th>lat</th>\n",
       "      <th>elevation</th>\n",
       "      <th>horizontal_accu</th>\n",
       "      <th>GPSspeed</th>\n",
       "      <th>accelerationX</th>\n",
       "      <th>accelerationY</th>\n",
       "      <th>accelerationZ</th>\n",
       "      <th>gravityX</th>\n",
       "      <th>gravityY</th>\n",
       "      <th>gravityZ</th>\n",
       "    </tr>\n",
       "  </thead>\n",
       "  <tbody>\n",
       "    <tr>\n",
       "      <th>0</th>\n",
       "      <td>1.494902e+09</td>\n",
       "      <td>NaN</td>\n",
       "      <td>NaN</td>\n",
       "      <td>NaN</td>\n",
       "      <td>NaN</td>\n",
       "      <td>NaN</td>\n",
       "      <td>NaN</td>\n",
       "      <td>NaN</td>\n",
       "      <td>NaN</td>\n",
       "      <td>NaN</td>\n",
       "      <td>NaN</td>\n",
       "      <td>NaN</td>\n",
       "    </tr>\n",
       "    <tr>\n",
       "      <th>1</th>\n",
       "      <td>1.494902e+09</td>\n",
       "      <td>NaN</td>\n",
       "      <td>NaN</td>\n",
       "      <td>NaN</td>\n",
       "      <td>NaN</td>\n",
       "      <td>NaN</td>\n",
       "      <td>-0.012438</td>\n",
       "      <td>0.003953</td>\n",
       "      <td>-0.006077</td>\n",
       "      <td>NaN</td>\n",
       "      <td>NaN</td>\n",
       "      <td>NaN</td>\n",
       "    </tr>\n",
       "    <tr>\n",
       "      <th>2</th>\n",
       "      <td>1.494902e+09</td>\n",
       "      <td>NaN</td>\n",
       "      <td>NaN</td>\n",
       "      <td>NaN</td>\n",
       "      <td>NaN</td>\n",
       "      <td>NaN</td>\n",
       "      <td>NaN</td>\n",
       "      <td>NaN</td>\n",
       "      <td>NaN</td>\n",
       "      <td>-0.148694</td>\n",
       "      <td>0.845168</td>\n",
       "      <td>0.513401</td>\n",
       "    </tr>\n",
       "    <tr>\n",
       "      <th>3</th>\n",
       "      <td>1.494902e+09</td>\n",
       "      <td>NaN</td>\n",
       "      <td>NaN</td>\n",
       "      <td>NaN</td>\n",
       "      <td>NaN</td>\n",
       "      <td>NaN</td>\n",
       "      <td>NaN</td>\n",
       "      <td>NaN</td>\n",
       "      <td>NaN</td>\n",
       "      <td>NaN</td>\n",
       "      <td>NaN</td>\n",
       "      <td>NaN</td>\n",
       "    </tr>\n",
       "    <tr>\n",
       "      <th>4</th>\n",
       "      <td>1.494902e+09</td>\n",
       "      <td>NaN</td>\n",
       "      <td>NaN</td>\n",
       "      <td>NaN</td>\n",
       "      <td>NaN</td>\n",
       "      <td>NaN</td>\n",
       "      <td>-0.012438</td>\n",
       "      <td>0.003953</td>\n",
       "      <td>-0.006077</td>\n",
       "      <td>NaN</td>\n",
       "      <td>NaN</td>\n",
       "      <td>NaN</td>\n",
       "    </tr>\n",
       "  </tbody>\n",
       "</table>\n",
       "</div>"
      ],
      "text/plain": [
       "      timestamp  long  lat  elevation  horizontal_accu  GPSspeed  \\\n",
       "0  1.494902e+09   NaN  NaN        NaN              NaN       NaN   \n",
       "1  1.494902e+09   NaN  NaN        NaN              NaN       NaN   \n",
       "2  1.494902e+09   NaN  NaN        NaN              NaN       NaN   \n",
       "3  1.494902e+09   NaN  NaN        NaN              NaN       NaN   \n",
       "4  1.494902e+09   NaN  NaN        NaN              NaN       NaN   \n",
       "\n",
       "   accelerationX  accelerationY  accelerationZ  gravityX  gravityY  gravityZ  \n",
       "0            NaN            NaN            NaN       NaN       NaN       NaN  \n",
       "1      -0.012438       0.003953      -0.006077       NaN       NaN       NaN  \n",
       "2            NaN            NaN            NaN -0.148694  0.845168  0.513401  \n",
       "3            NaN            NaN            NaN       NaN       NaN       NaN  \n",
       "4      -0.012438       0.003953      -0.006077       NaN       NaN       NaN  "
      ]
     },
     "execution_count": 53,
     "metadata": {},
     "output_type": "execute_result"
    }
   ],
   "source": [
    "#read original data from file within track.txt.gz used by OSC to store sensor data\n",
    "data = pd.read_csv('../data/SEQ_1/track.txt',sep=';',\n",
    "                   skiprows=[0],\n",
    "                   skipfooter=1,\n",
    "                   usecols=[0,1,2,3,4,5,9,10,11,16,17,18],\n",
    "                   header=None,\n",
    "                   engine = 'python')\n",
    "\n",
    "#naming of columns \n",
    "names = ['timestamp','long','lat','elevation','horizontal_accu',\n",
    "         'GPSspeed','accelerationX','accelerationY','accelerationZ',\n",
    "         'gravityX','gravityY','gravityZ'\n",
    "        ]\n",
    "\n",
    "data.columns=names\n",
    "\n",
    "data.head()\n"
   ]
  },
  {
   "cell_type": "code",
   "execution_count": 54,
   "metadata": {
    "collapsed": false
   },
   "outputs": [
    {
     "data": {
      "text/html": [
       "<div>\n",
       "<table border=\"1\" class=\"dataframe\">\n",
       "  <thead>\n",
       "    <tr style=\"text-align: right;\">\n",
       "      <th></th>\n",
       "      <th>timestamp</th>\n",
       "      <th>long</th>\n",
       "      <th>lat</th>\n",
       "      <th>elevation</th>\n",
       "      <th>horizontal_accu</th>\n",
       "      <th>GPSspeed</th>\n",
       "      <th>accelerationX</th>\n",
       "      <th>accelerationY</th>\n",
       "      <th>accelerationZ</th>\n",
       "      <th>gravityX</th>\n",
       "      <th>gravityY</th>\n",
       "      <th>gravityZ</th>\n",
       "    </tr>\n",
       "  </thead>\n",
       "  <tbody>\n",
       "    <tr>\n",
       "      <th>0</th>\n",
       "      <td>2017-05-15 22:28:20.497406</td>\n",
       "      <td>NaN</td>\n",
       "      <td>NaN</td>\n",
       "      <td>NaN</td>\n",
       "      <td>NaN</td>\n",
       "      <td>NaN</td>\n",
       "      <td>NaN</td>\n",
       "      <td>NaN</td>\n",
       "      <td>NaN</td>\n",
       "      <td>NaN</td>\n",
       "      <td>NaN</td>\n",
       "      <td>NaN</td>\n",
       "    </tr>\n",
       "    <tr>\n",
       "      <th>1</th>\n",
       "      <td>2017-05-15 22:28:20.497364</td>\n",
       "      <td>NaN</td>\n",
       "      <td>NaN</td>\n",
       "      <td>NaN</td>\n",
       "      <td>NaN</td>\n",
       "      <td>NaN</td>\n",
       "      <td>-0.012438</td>\n",
       "      <td>0.003953</td>\n",
       "      <td>-0.006077</td>\n",
       "      <td>NaN</td>\n",
       "      <td>NaN</td>\n",
       "      <td>NaN</td>\n",
       "    </tr>\n",
       "    <tr>\n",
       "      <th>2</th>\n",
       "      <td>2017-05-15 22:28:20.497339</td>\n",
       "      <td>NaN</td>\n",
       "      <td>NaN</td>\n",
       "      <td>NaN</td>\n",
       "      <td>NaN</td>\n",
       "      <td>NaN</td>\n",
       "      <td>NaN</td>\n",
       "      <td>NaN</td>\n",
       "      <td>NaN</td>\n",
       "      <td>-0.148694</td>\n",
       "      <td>0.845168</td>\n",
       "      <td>0.513401</td>\n",
       "    </tr>\n",
       "    <tr>\n",
       "      <th>3</th>\n",
       "      <td>2017-05-15 22:28:20.507680</td>\n",
       "      <td>NaN</td>\n",
       "      <td>NaN</td>\n",
       "      <td>NaN</td>\n",
       "      <td>NaN</td>\n",
       "      <td>NaN</td>\n",
       "      <td>NaN</td>\n",
       "      <td>NaN</td>\n",
       "      <td>NaN</td>\n",
       "      <td>NaN</td>\n",
       "      <td>NaN</td>\n",
       "      <td>NaN</td>\n",
       "    </tr>\n",
       "    <tr>\n",
       "      <th>4</th>\n",
       "      <td>2017-05-15 22:28:20.507618</td>\n",
       "      <td>NaN</td>\n",
       "      <td>NaN</td>\n",
       "      <td>NaN</td>\n",
       "      <td>NaN</td>\n",
       "      <td>NaN</td>\n",
       "      <td>-0.012438</td>\n",
       "      <td>0.003953</td>\n",
       "      <td>-0.006077</td>\n",
       "      <td>NaN</td>\n",
       "      <td>NaN</td>\n",
       "      <td>NaN</td>\n",
       "    </tr>\n",
       "  </tbody>\n",
       "</table>\n",
       "</div>"
      ],
      "text/plain": [
       "                   timestamp  long  lat  elevation  horizontal_accu  GPSspeed  \\\n",
       "0 2017-05-15 22:28:20.497406   NaN  NaN        NaN              NaN       NaN   \n",
       "1 2017-05-15 22:28:20.497364   NaN  NaN        NaN              NaN       NaN   \n",
       "2 2017-05-15 22:28:20.497339   NaN  NaN        NaN              NaN       NaN   \n",
       "3 2017-05-15 22:28:20.507680   NaN  NaN        NaN              NaN       NaN   \n",
       "4 2017-05-15 22:28:20.507618   NaN  NaN        NaN              NaN       NaN   \n",
       "\n",
       "   accelerationX  accelerationY  accelerationZ  gravityX  gravityY  gravityZ  \n",
       "0            NaN            NaN            NaN       NaN       NaN       NaN  \n",
       "1      -0.012438       0.003953      -0.006077       NaN       NaN       NaN  \n",
       "2            NaN            NaN            NaN -0.148694  0.845168  0.513401  \n",
       "3            NaN            NaN            NaN       NaN       NaN       NaN  \n",
       "4      -0.012438       0.003953      -0.006077       NaN       NaN       NaN  "
      ]
     },
     "execution_count": 54,
     "metadata": {},
     "output_type": "execute_result"
    }
   ],
   "source": [
    "#conversion into timestamp\n",
    "dates = []\n",
    "for i in range(data.shape[0]):\n",
    "    try:\n",
    "        dates.append(datetime.datetime.fromtimestamp(data['timestamp'].iloc[i]))\n",
    "    except :\n",
    "        print 'Error with row:', i\n",
    "data['timestamp'] = dates        \n",
    "data.head()"
   ]
  },
  {
   "cell_type": "code",
   "execution_count": 55,
   "metadata": {
    "collapsed": false
   },
   "outputs": [
    {
     "data": {
      "text/html": [
       "<div>\n",
       "<table border=\"1\" class=\"dataframe\">\n",
       "  <thead>\n",
       "    <tr style=\"text-align: right;\">\n",
       "      <th></th>\n",
       "      <th>timestamp</th>\n",
       "      <th>long</th>\n",
       "      <th>lat</th>\n",
       "      <th>elevation</th>\n",
       "      <th>horizontal_accu</th>\n",
       "      <th>GPSspeed</th>\n",
       "      <th>accelerationX</th>\n",
       "      <th>accelerationY</th>\n",
       "      <th>accelerationZ</th>\n",
       "      <th>gravityX</th>\n",
       "      <th>gravityY</th>\n",
       "      <th>gravityZ</th>\n",
       "    </tr>\n",
       "  </thead>\n",
       "  <tbody>\n",
       "    <tr>\n",
       "      <th>0</th>\n",
       "      <td>2017-05-15 22:28:20.497364</td>\n",
       "      <td>NaN</td>\n",
       "      <td>NaN</td>\n",
       "      <td>NaN</td>\n",
       "      <td>NaN</td>\n",
       "      <td>NaN</td>\n",
       "      <td>-0.012438</td>\n",
       "      <td>0.003953</td>\n",
       "      <td>-0.006077</td>\n",
       "      <td>NaN</td>\n",
       "      <td>NaN</td>\n",
       "      <td>NaN</td>\n",
       "    </tr>\n",
       "    <tr>\n",
       "      <th>1</th>\n",
       "      <td>2017-05-15 22:28:20.497339</td>\n",
       "      <td>NaN</td>\n",
       "      <td>NaN</td>\n",
       "      <td>NaN</td>\n",
       "      <td>NaN</td>\n",
       "      <td>NaN</td>\n",
       "      <td>NaN</td>\n",
       "      <td>NaN</td>\n",
       "      <td>NaN</td>\n",
       "      <td>-0.148694</td>\n",
       "      <td>0.845168</td>\n",
       "      <td>0.513401</td>\n",
       "    </tr>\n",
       "    <tr>\n",
       "      <th>2</th>\n",
       "      <td>2017-05-15 22:28:20.507618</td>\n",
       "      <td>NaN</td>\n",
       "      <td>NaN</td>\n",
       "      <td>NaN</td>\n",
       "      <td>NaN</td>\n",
       "      <td>NaN</td>\n",
       "      <td>-0.012438</td>\n",
       "      <td>0.003953</td>\n",
       "      <td>-0.006077</td>\n",
       "      <td>NaN</td>\n",
       "      <td>NaN</td>\n",
       "      <td>NaN</td>\n",
       "    </tr>\n",
       "    <tr>\n",
       "      <th>3</th>\n",
       "      <td>2017-05-15 22:28:20.507593</td>\n",
       "      <td>NaN</td>\n",
       "      <td>NaN</td>\n",
       "      <td>NaN</td>\n",
       "      <td>NaN</td>\n",
       "      <td>NaN</td>\n",
       "      <td>NaN</td>\n",
       "      <td>NaN</td>\n",
       "      <td>NaN</td>\n",
       "      <td>-0.148694</td>\n",
       "      <td>0.845168</td>\n",
       "      <td>0.513401</td>\n",
       "    </tr>\n",
       "    <tr>\n",
       "      <th>4</th>\n",
       "      <td>2017-05-15 22:28:20.517672</td>\n",
       "      <td>NaN</td>\n",
       "      <td>NaN</td>\n",
       "      <td>NaN</td>\n",
       "      <td>NaN</td>\n",
       "      <td>NaN</td>\n",
       "      <td>-0.012438</td>\n",
       "      <td>0.003953</td>\n",
       "      <td>-0.006077</td>\n",
       "      <td>NaN</td>\n",
       "      <td>NaN</td>\n",
       "      <td>NaN</td>\n",
       "    </tr>\n",
       "  </tbody>\n",
       "</table>\n",
       "</div>"
      ],
      "text/plain": [
       "                   timestamp  long  lat  elevation  horizontal_accu  GPSspeed  \\\n",
       "0 2017-05-15 22:28:20.497364   NaN  NaN        NaN              NaN       NaN   \n",
       "1 2017-05-15 22:28:20.497339   NaN  NaN        NaN              NaN       NaN   \n",
       "2 2017-05-15 22:28:20.507618   NaN  NaN        NaN              NaN       NaN   \n",
       "3 2017-05-15 22:28:20.507593   NaN  NaN        NaN              NaN       NaN   \n",
       "4 2017-05-15 22:28:20.517672   NaN  NaN        NaN              NaN       NaN   \n",
       "\n",
       "   accelerationX  accelerationY  accelerationZ  gravityX  gravityY  gravityZ  \n",
       "0      -0.012438       0.003953      -0.006077       NaN       NaN       NaN  \n",
       "1            NaN            NaN            NaN -0.148694  0.845168  0.513401  \n",
       "2      -0.012438       0.003953      -0.006077       NaN       NaN       NaN  \n",
       "3            NaN            NaN            NaN -0.148694  0.845168  0.513401  \n",
       "4      -0.012438       0.003953      -0.006077       NaN       NaN       NaN  "
      ]
     },
     "execution_count": 55,
     "metadata": {},
     "output_type": "execute_result"
    }
   ],
   "source": [
    "#remove all empty rows except timestamp\n",
    "emtpy = data.iloc[:,1:].isnull().sum(axis=1) == data.shape[1]-1\n",
    "data = data.loc[~emtpy,:]\n",
    "data.index=range(data.shape[0])\n",
    "\n",
    "data.head()"
   ]
  },
  {
   "cell_type": "code",
   "execution_count": 56,
   "metadata": {
    "collapsed": false
   },
   "outputs": [],
   "source": [
    "#short sample of data with gps data in teh extremes\n",
    "#data from 49 to 451 with 250 in the middle\n",
    "#choose long lat and acc data\n",
    "#calcular la distancia euclidiana\n",
    "\n",
    "\n",
    "#dataClip = data.loc[49:451,['long','lat','accelerationX','accelerationY','accelerationZ']]\n",
    "#dataClip.dropna(axis=0,how='all',inplace=True)\n",
    "#dataClip.to_csv('testcase.csv',index_label=False)\n",
    "#dataClip.head()"
   ]
  },
  {
   "cell_type": "code",
   "execution_count": 57,
   "metadata": {
    "collapsed": false
   },
   "outputs": [
    {
     "data": {
      "text/html": [
       "<div>\n",
       "<table border=\"1\" class=\"dataframe\">\n",
       "  <thead>\n",
       "    <tr style=\"text-align: right;\">\n",
       "      <th></th>\n",
       "      <th>long</th>\n",
       "      <th>lat</th>\n",
       "      <th>accelerationX</th>\n",
       "      <th>accelerationY</th>\n",
       "      <th>accelerationZ</th>\n",
       "    </tr>\n",
       "  </thead>\n",
       "  <tbody>\n",
       "    <tr>\n",
       "      <th>0</th>\n",
       "      <td>NaN</td>\n",
       "      <td>NaN</td>\n",
       "      <td>-0.012438</td>\n",
       "      <td>0.003953</td>\n",
       "      <td>-0.006077</td>\n",
       "    </tr>\n",
       "    <tr>\n",
       "      <th>2</th>\n",
       "      <td>NaN</td>\n",
       "      <td>NaN</td>\n",
       "      <td>-0.012438</td>\n",
       "      <td>0.003953</td>\n",
       "      <td>-0.006077</td>\n",
       "    </tr>\n",
       "    <tr>\n",
       "      <th>4</th>\n",
       "      <td>NaN</td>\n",
       "      <td>NaN</td>\n",
       "      <td>-0.012438</td>\n",
       "      <td>0.003953</td>\n",
       "      <td>-0.006077</td>\n",
       "    </tr>\n",
       "    <tr>\n",
       "      <th>6</th>\n",
       "      <td>NaN</td>\n",
       "      <td>NaN</td>\n",
       "      <td>-0.012438</td>\n",
       "      <td>0.003953</td>\n",
       "      <td>-0.006077</td>\n",
       "    </tr>\n",
       "    <tr>\n",
       "      <th>8</th>\n",
       "      <td>NaN</td>\n",
       "      <td>NaN</td>\n",
       "      <td>-0.012438</td>\n",
       "      <td>0.003953</td>\n",
       "      <td>-0.006077</td>\n",
       "    </tr>\n",
       "  </tbody>\n",
       "</table>\n",
       "</div>"
      ],
      "text/plain": [
       "   long  lat  accelerationX  accelerationY  accelerationZ\n",
       "0   NaN  NaN      -0.012438       0.003953      -0.006077\n",
       "2   NaN  NaN      -0.012438       0.003953      -0.006077\n",
       "4   NaN  NaN      -0.012438       0.003953      -0.006077\n",
       "6   NaN  NaN      -0.012438       0.003953      -0.006077\n",
       "8   NaN  NaN      -0.012438       0.003953      -0.006077"
      ]
     },
     "execution_count": 57,
     "metadata": {},
     "output_type": "execute_result"
    }
   ],
   "source": [
    "dataClip = data.loc[:,['long','lat','accelerationX','accelerationY','accelerationZ']]\n",
    "dataClip.dropna(axis=0,how='all',inplace=True)\n",
    "dataClip.head()"
   ]
  },
  {
   "cell_type": "markdown",
   "metadata": {},
   "source": [
    "## Geography"
   ]
  },
  {
   "cell_type": "code",
   "execution_count": 8,
   "metadata": {
    "collapsed": false
   },
   "outputs": [
    {
     "name": "stdout",
     "output_type": "stream",
     "text": [
      "GPS data points for clip data:\n"
     ]
    },
    {
     "data": {
      "text/html": [
       "<div>\n",
       "<table border=\"1\" class=\"dataframe\">\n",
       "  <thead>\n",
       "    <tr style=\"text-align: right;\">\n",
       "      <th></th>\n",
       "      <th>long</th>\n",
       "      <th>lat</th>\n",
       "      <th>pointIndex</th>\n",
       "    </tr>\n",
       "  </thead>\n",
       "  <tbody>\n",
       "    <tr>\n",
       "      <th>136</th>\n",
       "      <td>-74.000973</td>\n",
       "      <td>40.695163</td>\n",
       "      <td>136</td>\n",
       "    </tr>\n",
       "    <tr>\n",
       "      <th>341</th>\n",
       "      <td>-74.000974</td>\n",
       "      <td>40.695165</td>\n",
       "      <td>341</td>\n",
       "    </tr>\n",
       "    <tr>\n",
       "      <th>546</th>\n",
       "      <td>-74.000975</td>\n",
       "      <td>40.695166</td>\n",
       "      <td>546</td>\n",
       "    </tr>\n",
       "    <tr>\n",
       "      <th>825</th>\n",
       "      <td>-74.000982</td>\n",
       "      <td>40.695163</td>\n",
       "      <td>825</td>\n",
       "    </tr>\n",
       "    <tr>\n",
       "      <th>1216</th>\n",
       "      <td>-74.000986</td>\n",
       "      <td>40.695160</td>\n",
       "      <td>1216</td>\n",
       "    </tr>\n",
       "  </tbody>\n",
       "</table>\n",
       "</div>"
      ],
      "text/plain": [
       "           long        lat  pointIndex\n",
       "136  -74.000973  40.695163         136\n",
       "341  -74.000974  40.695165         341\n",
       "546  -74.000975  40.695166         546\n",
       "825  -74.000982  40.695163         825\n",
       "1216 -74.000986  40.695160        1216"
      ]
     },
     "execution_count": 8,
     "metadata": {},
     "output_type": "execute_result"
    }
   ],
   "source": [
    "print 'GPS data points for clip data:'\n",
    "gpsDataPoints =  dataClip.loc[~ (dataClip['long'].isnull()),['long','lat']]\n",
    "gpsDataPoints['pointIndex'] = gpsDataPoints.index\n",
    "gpsDataPoints.head()"
   ]
  },
  {
   "cell_type": "code",
   "execution_count": 9,
   "metadata": {
    "collapsed": false
   },
   "outputs": [],
   "source": [
    "geometry = []\n",
    "for i in range(len(gpsDataPoints.index)):\n",
    "    if i == (len(gpsDataPoints.index)-1):\n",
    "        line = np.nan\n",
    "    else:\n",
    "        #get start and end points for each line\n",
    "        startPoint = Point(gpsDataPoints['long'].loc[gpsDataPoints.index[i]], gpsDataPoints['lat'].loc[gpsDataPoints.index[i]])\n",
    "        endPoint = Point(gpsDataPoints['long'].loc[gpsDataPoints.index[i+1]], gpsDataPoints['lat'].loc[gpsDataPoints.index[i+1]])\n",
    "        #convert to shapely wkt\n",
    "        line = LineString([startPoint,endPoint]).wkt\n",
    "        geometry.append(shapely.wkt.loads(line))\n",
    "\n",
    "\n"
   ]
  },
  {
   "cell_type": "code",
   "execution_count": 10,
   "metadata": {
    "collapsed": false
   },
   "outputs": [
    {
     "data": {
      "text/html": [
       "<div>\n",
       "<table border=\"1\" class=\"dataframe\">\n",
       "  <thead>\n",
       "    <tr style=\"text-align: right;\">\n",
       "      <th></th>\n",
       "      <th>long</th>\n",
       "      <th>lat</th>\n",
       "      <th>pointIndex</th>\n",
       "      <th>geometry</th>\n",
       "    </tr>\n",
       "  </thead>\n",
       "  <tbody>\n",
       "    <tr>\n",
       "      <th>136</th>\n",
       "      <td>-74.000973</td>\n",
       "      <td>40.695163</td>\n",
       "      <td>136</td>\n",
       "      <td>LINESTRING (-74.00097323999999 40.69516347, -7...</td>\n",
       "    </tr>\n",
       "    <tr>\n",
       "      <th>341</th>\n",
       "      <td>-74.000974</td>\n",
       "      <td>40.695165</td>\n",
       "      <td>341</td>\n",
       "      <td>LINESTRING (-74.00097396 40.69516531, -74.0009...</td>\n",
       "    </tr>\n",
       "    <tr>\n",
       "      <th>546</th>\n",
       "      <td>-74.000975</td>\n",
       "      <td>40.695166</td>\n",
       "      <td>546</td>\n",
       "      <td>LINESTRING (-74.00097519000001 40.69516573, -7...</td>\n",
       "    </tr>\n",
       "    <tr>\n",
       "      <th>825</th>\n",
       "      <td>-74.000982</td>\n",
       "      <td>40.695163</td>\n",
       "      <td>825</td>\n",
       "      <td>LINESTRING (-74.00098247 40.69516282, -74.0009...</td>\n",
       "    </tr>\n",
       "    <tr>\n",
       "      <th>1216</th>\n",
       "      <td>-74.000986</td>\n",
       "      <td>40.695160</td>\n",
       "      <td>1216</td>\n",
       "      <td>LINESTRING (-74.00098647 40.69515984, -74.0009...</td>\n",
       "    </tr>\n",
       "  </tbody>\n",
       "</table>\n",
       "</div>"
      ],
      "text/plain": [
       "           long        lat  pointIndex  \\\n",
       "136  -74.000973  40.695163         136   \n",
       "341  -74.000974  40.695165         341   \n",
       "546  -74.000975  40.695166         546   \n",
       "825  -74.000982  40.695163         825   \n",
       "1216 -74.000986  40.695160        1216   \n",
       "\n",
       "                                               geometry  \n",
       "136   LINESTRING (-74.00097323999999 40.69516347, -7...  \n",
       "341   LINESTRING (-74.00097396 40.69516531, -74.0009...  \n",
       "546   LINESTRING (-74.00097519000001 40.69516573, -7...  \n",
       "825   LINESTRING (-74.00098247 40.69516282, -74.0009...  \n",
       "1216  LINESTRING (-74.00098647 40.69515984, -74.0009...  "
      ]
     },
     "execution_count": 10,
     "metadata": {},
     "output_type": "execute_result"
    }
   ],
   "source": [
    "gpsDataPoints = gpsDataPoints.iloc[:-1]\n",
    "crs = {'init': 'epsg:4326'}\n",
    "gpsDataPoints = gpd.GeoDataFrame(gpsDataPoints, crs=crs, geometry=geometry)\n",
    "gpsDataPoints.head()"
   ]
  },
  {
   "cell_type": "code",
   "execution_count": 11,
   "metadata": {
    "collapsed": false
   },
   "outputs": [
    {
     "data": {
      "text/plain": [
       "<matplotlib.axes._subplots.AxesSubplot at 0x7fb742a910d0>"
      ]
     },
     "execution_count": 11,
     "metadata": {},
     "output_type": "execute_result"
    },
    {
     "data": {
      "image/png": "[encoded data removed]",
      "text/plain": [
       "<matplotlib.figure.Figure at 0x7fb743c48b90>"
      ]
     },
     "metadata": {},
     "output_type": "display_data"
    }
   ],
   "source": [
    "gpsDataPoints.plot()"
   ]
  },
  {
   "cell_type": "markdown",
   "metadata": {},
   "source": [
    "## Total vector from XYZ"
   ]
  },
  {
   "cell_type": "code",
   "execution_count": 12,
   "metadata": {
    "collapsed": false
   },
   "outputs": [
    {
     "data": {
      "text/html": [
       "<div>\n",
       "<table border=\"1\" class=\"dataframe\">\n",
       "  <thead>\n",
       "    <tr style=\"text-align: right;\">\n",
       "      <th></th>\n",
       "      <th>long</th>\n",
       "      <th>lat</th>\n",
       "      <th>accelerationX</th>\n",
       "      <th>accelerationY</th>\n",
       "      <th>accelerationZ</th>\n",
       "      <th>pointIndex</th>\n",
       "    </tr>\n",
       "  </thead>\n",
       "  <tbody>\n",
       "    <tr>\n",
       "      <th>0</th>\n",
       "      <td>NaN</td>\n",
       "      <td>NaN</td>\n",
       "      <td>-0.012438</td>\n",
       "      <td>0.003953</td>\n",
       "      <td>-0.006077</td>\n",
       "      <td>NaN</td>\n",
       "    </tr>\n",
       "    <tr>\n",
       "      <th>1</th>\n",
       "      <td>NaN</td>\n",
       "      <td>NaN</td>\n",
       "      <td>-0.012438</td>\n",
       "      <td>0.003953</td>\n",
       "      <td>-0.006077</td>\n",
       "      <td>NaN</td>\n",
       "    </tr>\n",
       "    <tr>\n",
       "      <th>2</th>\n",
       "      <td>NaN</td>\n",
       "      <td>NaN</td>\n",
       "      <td>-0.012438</td>\n",
       "      <td>0.003953</td>\n",
       "      <td>-0.006077</td>\n",
       "      <td>NaN</td>\n",
       "    </tr>\n",
       "    <tr>\n",
       "      <th>3</th>\n",
       "      <td>NaN</td>\n",
       "      <td>NaN</td>\n",
       "      <td>-0.012438</td>\n",
       "      <td>0.003953</td>\n",
       "      <td>-0.006077</td>\n",
       "      <td>NaN</td>\n",
       "    </tr>\n",
       "    <tr>\n",
       "      <th>4</th>\n",
       "      <td>NaN</td>\n",
       "      <td>NaN</td>\n",
       "      <td>-0.012438</td>\n",
       "      <td>0.003953</td>\n",
       "      <td>-0.006077</td>\n",
       "      <td>NaN</td>\n",
       "    </tr>\n",
       "  </tbody>\n",
       "</table>\n",
       "</div>"
      ],
      "text/plain": [
       "   long  lat  accelerationX  accelerationY  accelerationZ  pointIndex\n",
       "0   NaN  NaN      -0.012438       0.003953      -0.006077         NaN\n",
       "1   NaN  NaN      -0.012438       0.003953      -0.006077         NaN\n",
       "2   NaN  NaN      -0.012438       0.003953      -0.006077         NaN\n",
       "3   NaN  NaN      -0.012438       0.003953      -0.006077         NaN\n",
       "4   NaN  NaN      -0.012438       0.003953      -0.006077         NaN"
      ]
     },
     "execution_count": 12,
     "metadata": {},
     "output_type": "execute_result"
    }
   ],
   "source": [
    "dataClip = dataClip.merge(gpsDataPoints.drop(['geometry'],axis=1),how='left')\n",
    "dataClip.head()"
   ]
  },
  {
   "cell_type": "code",
   "execution_count": 13,
   "metadata": {
    "collapsed": false
   },
   "outputs": [
    {
     "data": {
      "text/html": [
       "<div>\n",
       "<table border=\"1\" class=\"dataframe\">\n",
       "  <thead>\n",
       "    <tr style=\"text-align: right;\">\n",
       "      <th></th>\n",
       "      <th>long</th>\n",
       "      <th>lat</th>\n",
       "      <th>accelerationX</th>\n",
       "      <th>accelerationY</th>\n",
       "      <th>accelerationZ</th>\n",
       "      <th>pointIndex</th>\n",
       "    </tr>\n",
       "  </thead>\n",
       "  <tbody>\n",
       "    <tr>\n",
       "      <th>0</th>\n",
       "      <td>NaN</td>\n",
       "      <td>NaN</td>\n",
       "      <td>-0.012438</td>\n",
       "      <td>0.003953</td>\n",
       "      <td>-0.006077</td>\n",
       "      <td>NaN</td>\n",
       "    </tr>\n",
       "    <tr>\n",
       "      <th>1</th>\n",
       "      <td>NaN</td>\n",
       "      <td>NaN</td>\n",
       "      <td>-0.012438</td>\n",
       "      <td>0.003953</td>\n",
       "      <td>-0.006077</td>\n",
       "      <td>NaN</td>\n",
       "    </tr>\n",
       "    <tr>\n",
       "      <th>2</th>\n",
       "      <td>NaN</td>\n",
       "      <td>NaN</td>\n",
       "      <td>-0.012438</td>\n",
       "      <td>0.003953</td>\n",
       "      <td>-0.006077</td>\n",
       "      <td>NaN</td>\n",
       "    </tr>\n",
       "    <tr>\n",
       "      <th>3</th>\n",
       "      <td>NaN</td>\n",
       "      <td>NaN</td>\n",
       "      <td>-0.012438</td>\n",
       "      <td>0.003953</td>\n",
       "      <td>-0.006077</td>\n",
       "      <td>NaN</td>\n",
       "    </tr>\n",
       "    <tr>\n",
       "      <th>4</th>\n",
       "      <td>NaN</td>\n",
       "      <td>NaN</td>\n",
       "      <td>-0.012438</td>\n",
       "      <td>0.003953</td>\n",
       "      <td>-0.006077</td>\n",
       "      <td>NaN</td>\n",
       "    </tr>\n",
       "  </tbody>\n",
       "</table>\n",
       "</div>"
      ],
      "text/plain": [
       "   long  lat  accelerationX  accelerationY  accelerationZ  pointIndex\n",
       "0   NaN  NaN      -0.012438       0.003953      -0.006077         NaN\n",
       "1   NaN  NaN      -0.012438       0.003953      -0.006077         NaN\n",
       "2   NaN  NaN      -0.012438       0.003953      -0.006077         NaN\n",
       "3   NaN  NaN      -0.012438       0.003953      -0.006077         NaN\n",
       "4   NaN  NaN      -0.012438       0.003953      -0.006077         NaN"
      ]
     },
     "execution_count": 13,
     "metadata": {},
     "output_type": "execute_result"
    }
   ],
   "source": [
    "dataClip['pointIndex'] = dataClip['pointIndex'].fillna(method='ffill')\n",
    "dataClip.head()"
   ]
  },
  {
   "cell_type": "code",
   "execution_count": 14,
   "metadata": {
    "collapsed": false
   },
   "outputs": [
    {
     "data": {
      "text/html": [
       "<div>\n",
       "<table border=\"1\" class=\"dataframe\">\n",
       "  <thead>\n",
       "    <tr style=\"text-align: right;\">\n",
       "      <th></th>\n",
       "      <th>accelerationXShift</th>\n",
       "      <th>accelerationYShift</th>\n",
       "      <th>accelerationZShift</th>\n",
       "    </tr>\n",
       "  </thead>\n",
       "  <tbody>\n",
       "    <tr>\n",
       "      <th>0</th>\n",
       "      <td>NaN</td>\n",
       "      <td>NaN</td>\n",
       "      <td>NaN</td>\n",
       "    </tr>\n",
       "    <tr>\n",
       "      <th>1</th>\n",
       "      <td>-0.012438</td>\n",
       "      <td>0.003953</td>\n",
       "      <td>-0.006077</td>\n",
       "    </tr>\n",
       "    <tr>\n",
       "      <th>2</th>\n",
       "      <td>-0.012438</td>\n",
       "      <td>0.003953</td>\n",
       "      <td>-0.006077</td>\n",
       "    </tr>\n",
       "    <tr>\n",
       "      <th>3</th>\n",
       "      <td>-0.012438</td>\n",
       "      <td>0.003953</td>\n",
       "      <td>-0.006077</td>\n",
       "    </tr>\n",
       "    <tr>\n",
       "      <th>4</th>\n",
       "      <td>-0.012438</td>\n",
       "      <td>0.003953</td>\n",
       "      <td>-0.006077</td>\n",
       "    </tr>\n",
       "  </tbody>\n",
       "</table>\n",
       "</div>"
      ],
      "text/plain": [
       "   accelerationXShift  accelerationYShift  accelerationZShift\n",
       "0                 NaN                 NaN                 NaN\n",
       "1           -0.012438            0.003953           -0.006077\n",
       "2           -0.012438            0.003953           -0.006077\n",
       "3           -0.012438            0.003953           -0.006077\n",
       "4           -0.012438            0.003953           -0.006077"
      ]
     },
     "execution_count": 14,
     "metadata": {},
     "output_type": "execute_result"
    }
   ],
   "source": [
    "dataClipShifted = dataClip.shift(1)\n",
    "dataClipShifted.drop(['long','lat','pointIndex'],axis=1,inplace=True)\n",
    "dataClipShifted.columns = ['accelerationXShift','accelerationYShift','accelerationZShift']\n",
    "dataClip = pd.concat([dataClip,dataClipShifted],axis=1)\n",
    "dataClip.drop(['long','lat'],axis=1,inplace=True)\n",
    "dataClip.dropna(axis=0,how='any',inplace=True)\n",
    "\n",
    "dataClipShifted.head()"
   ]
  },
  {
   "cell_type": "markdown",
   "metadata": {},
   "source": [
    "## Calculating vector\n",
    "\n",
    "$ (x_1 -x_1lag)^2 +  (y_1 - y_1lag)^2 + (z_1 - z_1lag)^2 $"
   ]
  },
  {
   "cell_type": "code",
   "execution_count": 15,
   "metadata": {
    "collapsed": false
   },
   "outputs": [],
   "source": [
    "dataClip['V'] = np.sqrt((dataClip.accelerationX-dataClip.accelerationXShift) ** 2 + \\\n",
    "    #(dataClip.accelerationY-dataClip.accelerationYShift) ** 2 + \\\n",
    "    (dataClip.accelerationZ-dataClip.accelerationZShift) ** 2)"
   ]
  },
  {
   "cell_type": "code",
   "execution_count": 16,
   "metadata": {
    "collapsed": false
   },
   "outputs": [
    {
     "data": {
      "text/html": [
       "<div>\n",
       "<table border=\"1\" class=\"dataframe\">\n",
       "  <thead>\n",
       "    <tr style=\"text-align: right;\">\n",
       "      <th></th>\n",
       "      <th>V</th>\n",
       "    </tr>\n",
       "    <tr>\n",
       "      <th>pointIndex</th>\n",
       "      <th></th>\n",
       "    </tr>\n",
       "  </thead>\n",
       "  <tbody>\n",
       "    <tr>\n",
       "      <th>136.0</th>\n",
       "      <td>1.042762</td>\n",
       "    </tr>\n",
       "    <tr>\n",
       "      <th>341.0</th>\n",
       "      <td>0.748889</td>\n",
       "    </tr>\n",
       "    <tr>\n",
       "      <th>546.0</th>\n",
       "      <td>0.750211</td>\n",
       "    </tr>\n",
       "    <tr>\n",
       "      <th>825.0</th>\n",
       "      <td>0.955072</td>\n",
       "    </tr>\n",
       "    <tr>\n",
       "      <th>1216.0</th>\n",
       "      <td>1.398042</td>\n",
       "    </tr>\n",
       "  </tbody>\n",
       "</table>\n",
       "</div>"
      ],
      "text/plain": [
       "                   V\n",
       "pointIndex          \n",
       "136.0       1.042762\n",
       "341.0       0.748889\n",
       "546.0       0.750211\n",
       "825.0       0.955072\n",
       "1216.0      1.398042"
      ]
     },
     "execution_count": 16,
     "metadata": {},
     "output_type": "execute_result"
    }
   ],
   "source": [
    "vectorInformation = dataClip.loc[:,['pointIndex','V']].groupby(by=['pointIndex']).sum()\n",
    "vectorInformation.head()"
   ]
  },
  {
   "cell_type": "code",
   "execution_count": 17,
   "metadata": {
    "collapsed": false
   },
   "outputs": [
    {
     "data": {
      "text/html": [
       "<div>\n",
       "<table border=\"1\" class=\"dataframe\">\n",
       "  <thead>\n",
       "    <tr style=\"text-align: right;\">\n",
       "      <th></th>\n",
       "      <th>pointIndex</th>\n",
       "      <th>V</th>\n",
       "    </tr>\n",
       "  </thead>\n",
       "  <tbody>\n",
       "    <tr>\n",
       "      <th>0</th>\n",
       "      <td>136.0</td>\n",
       "      <td>1.042762</td>\n",
       "    </tr>\n",
       "    <tr>\n",
       "      <th>1</th>\n",
       "      <td>341.0</td>\n",
       "      <td>0.748889</td>\n",
       "    </tr>\n",
       "    <tr>\n",
       "      <th>2</th>\n",
       "      <td>546.0</td>\n",
       "      <td>0.750211</td>\n",
       "    </tr>\n",
       "    <tr>\n",
       "      <th>3</th>\n",
       "      <td>825.0</td>\n",
       "      <td>0.955072</td>\n",
       "    </tr>\n",
       "    <tr>\n",
       "      <th>4</th>\n",
       "      <td>1216.0</td>\n",
       "      <td>1.398042</td>\n",
       "    </tr>\n",
       "  </tbody>\n",
       "</table>\n",
       "</div>"
      ],
      "text/plain": [
       "   pointIndex         V\n",
       "0       136.0  1.042762\n",
       "1       341.0  0.748889\n",
       "2       546.0  0.750211\n",
       "3       825.0  0.955072\n",
       "4      1216.0  1.398042"
      ]
     },
     "execution_count": 17,
     "metadata": {},
     "output_type": "execute_result"
    }
   ],
   "source": [
    "vectorInformation.reset_index(inplace=True)\n",
    "#apply the square root to the sum\n",
    "vectorInformation.head()"
   ]
  },
  {
   "cell_type": "code",
   "execution_count": 18,
   "metadata": {
    "collapsed": false
   },
   "outputs": [],
   "source": [
    "gpsDataPoints = gpsDataPoints.merge(vectorInformation)"
   ]
  },
  {
   "cell_type": "code",
   "execution_count": 19,
   "metadata": {
    "collapsed": false
   },
   "outputs": [
    {
     "data": {
      "text/plain": [
       "<matplotlib.axes._subplots.AxesSubplot at 0x7fb73c7431d0>"
      ]
     },
     "execution_count": 19,
     "metadata": {},
     "output_type": "execute_result"
    },
    {
     "data": {
      "image/png": "[encoded data removed]",
      "text/plain": [
       "<matplotlib.figure.Figure at 0x7fb73c734e90>"
      ]
     },
     "metadata": {},
     "output_type": "display_data"
    }
   ],
   "source": [
    "gpsDataPoints.plot(column='V')"
   ]
  },
  {
   "cell_type": "code",
   "execution_count": null,
   "metadata": {
    "collapsed": true
   },
   "outputs": [],
   "source": [
    "#centroids"
   ]
  },
  {
   "cell_type": "code",
   "execution_count": 20,
   "metadata": {
    "collapsed": true
   },
   "outputs": [],
   "source": [
    "gpsDataPoints.to_file('../shapes/SEQ_1')"
   ]
  },
  {
   "cell_type": "code",
   "execution_count": null,
   "metadata": {
    "collapsed": true
   },
   "outputs": [],
   "source": []
  },
  {
   "cell_type": "code",
   "execution_count": null,
   "metadata": {
    "collapsed": true
   },
   "outputs": [],
   "source": []
  }
 ],
 "metadata": {
  "anaconda-cloud": {},
  "kernelspec": {
   "display_name": "Python [conda root]",
   "language": "python",
   "name": "conda-root-py"
  },
  "language_info": {
   "codemirror_mode": {
    "name": "ipython",
    "version": 2
   },
   "file_extension": ".py",
   "mimetype": "text/x-python",
   "name": "python",
   "nbconvert_exporter": "python",
   "pygments_lexer": "ipython2",
   "version": "2.7.12"
  }
 },
 "nbformat": 4,
 "nbformat_minor": 1
}
