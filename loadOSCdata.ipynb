{
 "cells": [
  {
   "cell_type": "code",
   "execution_count": 1,
   "metadata": {
    "collapsed": true
   },
   "outputs": [],
   "source": [
    "import pandas as pd\n",
    "import geopandas as gpd\n",
    "import datetime\n",
    "import numpy as np\n",
    "from shapely.geometry import Point, LineString\n",
    "import shapely.wkt\n",
    "import matplotlib.pyplot as plt\n",
    "%matplotlib inline\n",
    "\n",
    "#doc on accelerometer\n",
    "# http://www.starlino.com/imu_guide.html"
   ]
  },
  {
   "cell_type": "markdown",
   "metadata": {},
   "source": [
    "## Load original data"
   ]
  },
  {
   "cell_type": "code",
   "execution_count": 2,
   "metadata": {
    "collapsed": false
   },
   "outputs": [
    {
     "name": "stdout",
     "output_type": "stream",
     "text": [
      "phone info: motorola Moto G (4);7.0;1.1.6;2.0.4;video\n",
      "\n"
     ]
    }
   ],
   "source": [
    "#phone info\n",
    "f = open('track.txt','r')\n",
    "phone = f.readline()\n",
    "print 'phone info:',phone\n",
    "f.close()\n",
    "\n"
   ]
  },
  {
   "cell_type": "code",
   "execution_count": 3,
   "metadata": {
    "collapsed": false
   },
   "outputs": [
    {
     "data": {
      "text/html": [
       "<div>\n",
       "<table border=\"1\" class=\"dataframe\">\n",
       "  <thead>\n",
       "    <tr style=\"text-align: right;\">\n",
       "      <th></th>\n",
       "      <th>timestamp</th>\n",
       "      <th>long</th>\n",
       "      <th>lat</th>\n",
       "      <th>elevation</th>\n",
       "      <th>horizontal_accu</th>\n",
       "      <th>GPSspeed</th>\n",
       "      <th>accelerationX</th>\n",
       "      <th>accelerationY</th>\n",
       "      <th>accelerationZ</th>\n",
       "      <th>gravityX</th>\n",
       "      <th>gravityY</th>\n",
       "      <th>gravityZ</th>\n",
       "    </tr>\n",
       "  </thead>\n",
       "  <tbody>\n",
       "    <tr>\n",
       "      <th>0</th>\n",
       "      <td>1.492177e+09</td>\n",
       "      <td>NaN</td>\n",
       "      <td>NaN</td>\n",
       "      <td>NaN</td>\n",
       "      <td>NaN</td>\n",
       "      <td>NaN</td>\n",
       "      <td>NaN</td>\n",
       "      <td>NaN</td>\n",
       "      <td>NaN</td>\n",
       "      <td>NaN</td>\n",
       "      <td>NaN</td>\n",
       "      <td>NaN</td>\n",
       "    </tr>\n",
       "    <tr>\n",
       "      <th>1</th>\n",
       "      <td>1.492177e+09</td>\n",
       "      <td>NaN</td>\n",
       "      <td>NaN</td>\n",
       "      <td>NaN</td>\n",
       "      <td>NaN</td>\n",
       "      <td>NaN</td>\n",
       "      <td>-0.469606</td>\n",
       "      <td>0.126763</td>\n",
       "      <td>-0.394292</td>\n",
       "      <td>NaN</td>\n",
       "      <td>NaN</td>\n",
       "      <td>NaN</td>\n",
       "    </tr>\n",
       "    <tr>\n",
       "      <th>2</th>\n",
       "      <td>1.492177e+09</td>\n",
       "      <td>NaN</td>\n",
       "      <td>NaN</td>\n",
       "      <td>NaN</td>\n",
       "      <td>NaN</td>\n",
       "      <td>NaN</td>\n",
       "      <td>NaN</td>\n",
       "      <td>NaN</td>\n",
       "      <td>NaN</td>\n",
       "      <td>NaN</td>\n",
       "      <td>NaN</td>\n",
       "      <td>NaN</td>\n",
       "    </tr>\n",
       "    <tr>\n",
       "      <th>3</th>\n",
       "      <td>1.492177e+09</td>\n",
       "      <td>NaN</td>\n",
       "      <td>NaN</td>\n",
       "      <td>NaN</td>\n",
       "      <td>NaN</td>\n",
       "      <td>NaN</td>\n",
       "      <td>-0.469606</td>\n",
       "      <td>0.126763</td>\n",
       "      <td>-0.394292</td>\n",
       "      <td>NaN</td>\n",
       "      <td>NaN</td>\n",
       "      <td>NaN</td>\n",
       "    </tr>\n",
       "    <tr>\n",
       "      <th>4</th>\n",
       "      <td>1.492177e+09</td>\n",
       "      <td>NaN</td>\n",
       "      <td>NaN</td>\n",
       "      <td>NaN</td>\n",
       "      <td>NaN</td>\n",
       "      <td>NaN</td>\n",
       "      <td>NaN</td>\n",
       "      <td>NaN</td>\n",
       "      <td>NaN</td>\n",
       "      <td>0.205934</td>\n",
       "      <td>0.19355</td>\n",
       "      <td>0.959234</td>\n",
       "    </tr>\n",
       "  </tbody>\n",
       "</table>\n",
       "</div>"
      ],
      "text/plain": [
       "      timestamp  long  lat  elevation  horizontal_accu  GPSspeed  \\\n",
       "0  1.492177e+09   NaN  NaN        NaN              NaN       NaN   \n",
       "1  1.492177e+09   NaN  NaN        NaN              NaN       NaN   \n",
       "2  1.492177e+09   NaN  NaN        NaN              NaN       NaN   \n",
       "3  1.492177e+09   NaN  NaN        NaN              NaN       NaN   \n",
       "4  1.492177e+09   NaN  NaN        NaN              NaN       NaN   \n",
       "\n",
       "   accelerationX  accelerationY  accelerationZ  gravityX  gravityY  gravityZ  \n",
       "0            NaN            NaN            NaN       NaN       NaN       NaN  \n",
       "1      -0.469606       0.126763      -0.394292       NaN       NaN       NaN  \n",
       "2            NaN            NaN            NaN       NaN       NaN       NaN  \n",
       "3      -0.469606       0.126763      -0.394292       NaN       NaN       NaN  \n",
       "4            NaN            NaN            NaN  0.205934   0.19355  0.959234  "
      ]
     },
     "execution_count": 3,
     "metadata": {},
     "output_type": "execute_result"
    }
   ],
   "source": [
    "#read original data from file within track.txt.gz used by OSC to store sensor data\n",
    "data = pd.read_csv('track.txt',sep=';',\n",
    "                   skiprows=[0],\n",
    "                   skipfooter=1,\n",
    "                   usecols=[0,1,2,3,4,5,9,10,11,16,17,18],\n",
    "                   header=None,\n",
    "                   engine = 'python')\n",
    "\n",
    "#naming of columns \n",
    "names = ['timestamp','long','lat','elevation','horizontal_accu',\n",
    "         'GPSspeed','accelerationX','accelerationY','accelerationZ',\n",
    "         'gravityX','gravityY','gravityZ'\n",
    "        ]\n",
    "\n",
    "data.columns=names\n",
    "\n",
    "data.head()\n"
   ]
  },
  {
   "cell_type": "code",
   "execution_count": 4,
   "metadata": {
    "collapsed": false
   },
   "outputs": [
    {
     "data": {
      "text/html": [
       "<div>\n",
       "<table border=\"1\" class=\"dataframe\">\n",
       "  <thead>\n",
       "    <tr style=\"text-align: right;\">\n",
       "      <th></th>\n",
       "      <th>timestamp</th>\n",
       "      <th>long</th>\n",
       "      <th>lat</th>\n",
       "      <th>elevation</th>\n",
       "      <th>horizontal_accu</th>\n",
       "      <th>GPSspeed</th>\n",
       "      <th>accelerationX</th>\n",
       "      <th>accelerationY</th>\n",
       "      <th>accelerationZ</th>\n",
       "      <th>gravityX</th>\n",
       "      <th>gravityY</th>\n",
       "      <th>gravityZ</th>\n",
       "    </tr>\n",
       "  </thead>\n",
       "  <tbody>\n",
       "    <tr>\n",
       "      <th>0</th>\n",
       "      <td>2017-04-14 09:35:19.833742</td>\n",
       "      <td>NaN</td>\n",
       "      <td>NaN</td>\n",
       "      <td>NaN</td>\n",
       "      <td>NaN</td>\n",
       "      <td>NaN</td>\n",
       "      <td>NaN</td>\n",
       "      <td>NaN</td>\n",
       "      <td>NaN</td>\n",
       "      <td>NaN</td>\n",
       "      <td>NaN</td>\n",
       "      <td>NaN</td>\n",
       "    </tr>\n",
       "    <tr>\n",
       "      <th>1</th>\n",
       "      <td>2017-04-14 09:35:19.833626</td>\n",
       "      <td>NaN</td>\n",
       "      <td>NaN</td>\n",
       "      <td>NaN</td>\n",
       "      <td>NaN</td>\n",
       "      <td>NaN</td>\n",
       "      <td>-0.469606</td>\n",
       "      <td>0.126763</td>\n",
       "      <td>-0.394292</td>\n",
       "      <td>NaN</td>\n",
       "      <td>NaN</td>\n",
       "      <td>NaN</td>\n",
       "    </tr>\n",
       "    <tr>\n",
       "      <th>2</th>\n",
       "      <td>2017-04-14 09:35:19.843359</td>\n",
       "      <td>NaN</td>\n",
       "      <td>NaN</td>\n",
       "      <td>NaN</td>\n",
       "      <td>NaN</td>\n",
       "      <td>NaN</td>\n",
       "      <td>NaN</td>\n",
       "      <td>NaN</td>\n",
       "      <td>NaN</td>\n",
       "      <td>NaN</td>\n",
       "      <td>NaN</td>\n",
       "      <td>NaN</td>\n",
       "    </tr>\n",
       "    <tr>\n",
       "      <th>3</th>\n",
       "      <td>2017-04-14 09:35:19.843273</td>\n",
       "      <td>NaN</td>\n",
       "      <td>NaN</td>\n",
       "      <td>NaN</td>\n",
       "      <td>NaN</td>\n",
       "      <td>NaN</td>\n",
       "      <td>-0.469606</td>\n",
       "      <td>0.126763</td>\n",
       "      <td>-0.394292</td>\n",
       "      <td>NaN</td>\n",
       "      <td>NaN</td>\n",
       "      <td>NaN</td>\n",
       "    </tr>\n",
       "    <tr>\n",
       "      <th>4</th>\n",
       "      <td>2017-04-14 09:35:19.843216</td>\n",
       "      <td>NaN</td>\n",
       "      <td>NaN</td>\n",
       "      <td>NaN</td>\n",
       "      <td>NaN</td>\n",
       "      <td>NaN</td>\n",
       "      <td>NaN</td>\n",
       "      <td>NaN</td>\n",
       "      <td>NaN</td>\n",
       "      <td>0.205934</td>\n",
       "      <td>0.19355</td>\n",
       "      <td>0.959234</td>\n",
       "    </tr>\n",
       "  </tbody>\n",
       "</table>\n",
       "</div>"
      ],
      "text/plain": [
       "                   timestamp  long  lat  elevation  horizontal_accu  GPSspeed  \\\n",
       "0 2017-04-14 09:35:19.833742   NaN  NaN        NaN              NaN       NaN   \n",
       "1 2017-04-14 09:35:19.833626   NaN  NaN        NaN              NaN       NaN   \n",
       "2 2017-04-14 09:35:19.843359   NaN  NaN        NaN              NaN       NaN   \n",
       "3 2017-04-14 09:35:19.843273   NaN  NaN        NaN              NaN       NaN   \n",
       "4 2017-04-14 09:35:19.843216   NaN  NaN        NaN              NaN       NaN   \n",
       "\n",
       "   accelerationX  accelerationY  accelerationZ  gravityX  gravityY  gravityZ  \n",
       "0            NaN            NaN            NaN       NaN       NaN       NaN  \n",
       "1      -0.469606       0.126763      -0.394292       NaN       NaN       NaN  \n",
       "2            NaN            NaN            NaN       NaN       NaN       NaN  \n",
       "3      -0.469606       0.126763      -0.394292       NaN       NaN       NaN  \n",
       "4            NaN            NaN            NaN  0.205934   0.19355  0.959234  "
      ]
     },
     "execution_count": 4,
     "metadata": {},
     "output_type": "execute_result"
    }
   ],
   "source": [
    "#conversion into timestamp\n",
    "dates = []\n",
    "for i in range(data.shape[0]):\n",
    "    try:\n",
    "        dates.append(datetime.datetime.fromtimestamp(data['timestamp'].iloc[i]))\n",
    "    except :\n",
    "        print 'Error with row:', i\n",
    "data['timestamp'] = dates        \n",
    "data.head()"
   ]
  },
  {
   "cell_type": "code",
   "execution_count": 5,
   "metadata": {
    "collapsed": false
   },
   "outputs": [
    {
     "data": {
      "text/html": [
       "<div>\n",
       "<table border=\"1\" class=\"dataframe\">\n",
       "  <thead>\n",
       "    <tr style=\"text-align: right;\">\n",
       "      <th></th>\n",
       "      <th>timestamp</th>\n",
       "      <th>long</th>\n",
       "      <th>lat</th>\n",
       "      <th>elevation</th>\n",
       "      <th>horizontal_accu</th>\n",
       "      <th>GPSspeed</th>\n",
       "      <th>accelerationX</th>\n",
       "      <th>accelerationY</th>\n",
       "      <th>accelerationZ</th>\n",
       "      <th>gravityX</th>\n",
       "      <th>gravityY</th>\n",
       "      <th>gravityZ</th>\n",
       "    </tr>\n",
       "  </thead>\n",
       "  <tbody>\n",
       "    <tr>\n",
       "      <th>0</th>\n",
       "      <td>2017-04-14 09:35:19.833626</td>\n",
       "      <td>NaN</td>\n",
       "      <td>NaN</td>\n",
       "      <td>NaN</td>\n",
       "      <td>NaN</td>\n",
       "      <td>NaN</td>\n",
       "      <td>-0.469606</td>\n",
       "      <td>0.126763</td>\n",
       "      <td>-0.394292</td>\n",
       "      <td>NaN</td>\n",
       "      <td>NaN</td>\n",
       "      <td>NaN</td>\n",
       "    </tr>\n",
       "    <tr>\n",
       "      <th>1</th>\n",
       "      <td>2017-04-14 09:35:19.843273</td>\n",
       "      <td>NaN</td>\n",
       "      <td>NaN</td>\n",
       "      <td>NaN</td>\n",
       "      <td>NaN</td>\n",
       "      <td>NaN</td>\n",
       "      <td>-0.469606</td>\n",
       "      <td>0.126763</td>\n",
       "      <td>-0.394292</td>\n",
       "      <td>NaN</td>\n",
       "      <td>NaN</td>\n",
       "      <td>NaN</td>\n",
       "    </tr>\n",
       "    <tr>\n",
       "      <th>2</th>\n",
       "      <td>2017-04-14 09:35:19.843216</td>\n",
       "      <td>NaN</td>\n",
       "      <td>NaN</td>\n",
       "      <td>NaN</td>\n",
       "      <td>NaN</td>\n",
       "      <td>NaN</td>\n",
       "      <td>NaN</td>\n",
       "      <td>NaN</td>\n",
       "      <td>NaN</td>\n",
       "      <td>0.205934</td>\n",
       "      <td>0.19355</td>\n",
       "      <td>0.959234</td>\n",
       "    </tr>\n",
       "    <tr>\n",
       "      <th>3</th>\n",
       "      <td>2017-04-14 09:35:19.853097</td>\n",
       "      <td>NaN</td>\n",
       "      <td>NaN</td>\n",
       "      <td>NaN</td>\n",
       "      <td>NaN</td>\n",
       "      <td>NaN</td>\n",
       "      <td>-0.469606</td>\n",
       "      <td>0.126763</td>\n",
       "      <td>-0.394292</td>\n",
       "      <td>NaN</td>\n",
       "      <td>NaN</td>\n",
       "      <td>NaN</td>\n",
       "    </tr>\n",
       "    <tr>\n",
       "      <th>4</th>\n",
       "      <td>2017-04-14 09:35:19.853047</td>\n",
       "      <td>NaN</td>\n",
       "      <td>NaN</td>\n",
       "      <td>NaN</td>\n",
       "      <td>NaN</td>\n",
       "      <td>NaN</td>\n",
       "      <td>NaN</td>\n",
       "      <td>NaN</td>\n",
       "      <td>NaN</td>\n",
       "      <td>0.205934</td>\n",
       "      <td>0.19355</td>\n",
       "      <td>0.959234</td>\n",
       "    </tr>\n",
       "  </tbody>\n",
       "</table>\n",
       "</div>"
      ],
      "text/plain": [
       "                   timestamp  long  lat  elevation  horizontal_accu  GPSspeed  \\\n",
       "0 2017-04-14 09:35:19.833626   NaN  NaN        NaN              NaN       NaN   \n",
       "1 2017-04-14 09:35:19.843273   NaN  NaN        NaN              NaN       NaN   \n",
       "2 2017-04-14 09:35:19.843216   NaN  NaN        NaN              NaN       NaN   \n",
       "3 2017-04-14 09:35:19.853097   NaN  NaN        NaN              NaN       NaN   \n",
       "4 2017-04-14 09:35:19.853047   NaN  NaN        NaN              NaN       NaN   \n",
       "\n",
       "   accelerationX  accelerationY  accelerationZ  gravityX  gravityY  gravityZ  \n",
       "0      -0.469606       0.126763      -0.394292       NaN       NaN       NaN  \n",
       "1      -0.469606       0.126763      -0.394292       NaN       NaN       NaN  \n",
       "2            NaN            NaN            NaN  0.205934   0.19355  0.959234  \n",
       "3      -0.469606       0.126763      -0.394292       NaN       NaN       NaN  \n",
       "4            NaN            NaN            NaN  0.205934   0.19355  0.959234  "
      ]
     },
     "execution_count": 5,
     "metadata": {},
     "output_type": "execute_result"
    }
   ],
   "source": [
    "#remove all empty rows except timestamp\n",
    "emtpy = data.iloc[:,1:].isnull().sum(axis=1) == data.shape[1]-1\n",
    "data = data.loc[~emtpy,:]\n",
    "data.index=range(data.shape[0])\n",
    "\n",
    "data.head()"
   ]
  },
  {
   "cell_type": "code",
   "execution_count": null,
   "metadata": {
    "collapsed": false
   },
   "outputs": [],
   "source": [
    "#short sample of data with gps data in teh extremes\n",
    "#data from 49 to 451 with 250 in the middle\n",
    "#choose long lat and acc data\n",
    "#calcular la distancia euclidiana\n",
    "\n",
    "\n",
    "#dataClip = data.loc[49:451,['long','lat','accelerationX','accelerationY','accelerationZ']]\n",
    "#dataClip.dropna(axis=0,how='all',inplace=True)\n",
    "#dataClip.to_csv('testcase.csv',index_label=False)\n",
    "#dataClip.head()"
   ]
  },
  {
   "cell_type": "code",
   "execution_count": 6,
   "metadata": {
    "collapsed": false
   },
   "outputs": [
    {
     "data": {
      "text/html": [
       "<div>\n",
       "<table border=\"1\" class=\"dataframe\">\n",
       "  <thead>\n",
       "    <tr style=\"text-align: right;\">\n",
       "      <th></th>\n",
       "      <th>long</th>\n",
       "      <th>lat</th>\n",
       "      <th>accelerationX</th>\n",
       "      <th>accelerationY</th>\n",
       "      <th>accelerationZ</th>\n",
       "    </tr>\n",
       "  </thead>\n",
       "  <tbody>\n",
       "    <tr>\n",
       "      <th>0</th>\n",
       "      <td>NaN</td>\n",
       "      <td>NaN</td>\n",
       "      <td>-0.469606</td>\n",
       "      <td>0.126763</td>\n",
       "      <td>-0.394292</td>\n",
       "    </tr>\n",
       "    <tr>\n",
       "      <th>1</th>\n",
       "      <td>NaN</td>\n",
       "      <td>NaN</td>\n",
       "      <td>-0.469606</td>\n",
       "      <td>0.126763</td>\n",
       "      <td>-0.394292</td>\n",
       "    </tr>\n",
       "    <tr>\n",
       "      <th>3</th>\n",
       "      <td>NaN</td>\n",
       "      <td>NaN</td>\n",
       "      <td>-0.469606</td>\n",
       "      <td>0.126763</td>\n",
       "      <td>-0.394292</td>\n",
       "    </tr>\n",
       "    <tr>\n",
       "      <th>5</th>\n",
       "      <td>NaN</td>\n",
       "      <td>NaN</td>\n",
       "      <td>-0.469606</td>\n",
       "      <td>0.126763</td>\n",
       "      <td>-0.394292</td>\n",
       "    </tr>\n",
       "    <tr>\n",
       "      <th>7</th>\n",
       "      <td>NaN</td>\n",
       "      <td>NaN</td>\n",
       "      <td>-0.469606</td>\n",
       "      <td>0.126763</td>\n",
       "      <td>-0.394292</td>\n",
       "    </tr>\n",
       "  </tbody>\n",
       "</table>\n",
       "</div>"
      ],
      "text/plain": [
       "   long  lat  accelerationX  accelerationY  accelerationZ\n",
       "0   NaN  NaN      -0.469606       0.126763      -0.394292\n",
       "1   NaN  NaN      -0.469606       0.126763      -0.394292\n",
       "3   NaN  NaN      -0.469606       0.126763      -0.394292\n",
       "5   NaN  NaN      -0.469606       0.126763      -0.394292\n",
       "7   NaN  NaN      -0.469606       0.126763      -0.394292"
      ]
     },
     "execution_count": 6,
     "metadata": {},
     "output_type": "execute_result"
    }
   ],
   "source": [
    "dataClip = data.loc[:,['long','lat','accelerationX','accelerationY','accelerationZ']]\n",
    "dataClip.dropna(axis=0,how='all',inplace=True)\n",
    "dataClip.head()"
   ]
  },
  {
   "cell_type": "markdown",
   "metadata": {},
   "source": [
    "## Geography"
   ]
  },
  {
   "cell_type": "code",
   "execution_count": 16,
   "metadata": {
    "collapsed": false
   },
   "outputs": [
    {
     "name": "stdout",
     "output_type": "stream",
     "text": [
      "GPS data points for clip data:\n"
     ]
    },
    {
     "data": {
      "text/html": [
       "<div>\n",
       "<table border=\"1\" class=\"dataframe\">\n",
       "  <thead>\n",
       "    <tr style=\"text-align: right;\">\n",
       "      <th></th>\n",
       "      <th>long</th>\n",
       "      <th>lat</th>\n",
       "      <th>pointIndex</th>\n",
       "    </tr>\n",
       "  </thead>\n",
       "  <tbody>\n",
       "    <tr>\n",
       "      <th>49</th>\n",
       "      <td>-73.971799</td>\n",
       "      <td>40.643469</td>\n",
       "      <td>49</td>\n",
       "    </tr>\n",
       "    <tr>\n",
       "      <th>250</th>\n",
       "      <td>-73.971850</td>\n",
       "      <td>40.643462</td>\n",
       "      <td>250</td>\n",
       "    </tr>\n",
       "    <tr>\n",
       "      <th>451</th>\n",
       "      <td>-73.971901</td>\n",
       "      <td>40.643456</td>\n",
       "      <td>451</td>\n",
       "    </tr>\n",
       "    <tr>\n",
       "      <th>656</th>\n",
       "      <td>-73.971952</td>\n",
       "      <td>40.643454</td>\n",
       "      <td>656</td>\n",
       "    </tr>\n",
       "    <tr>\n",
       "      <th>857</th>\n",
       "      <td>-73.972003</td>\n",
       "      <td>40.643454</td>\n",
       "      <td>857</td>\n",
       "    </tr>\n",
       "  </tbody>\n",
       "</table>\n",
       "</div>"
      ],
      "text/plain": [
       "          long        lat  pointIndex\n",
       "49  -73.971799  40.643469          49\n",
       "250 -73.971850  40.643462         250\n",
       "451 -73.971901  40.643456         451\n",
       "656 -73.971952  40.643454         656\n",
       "857 -73.972003  40.643454         857"
      ]
     },
     "execution_count": 16,
     "metadata": {},
     "output_type": "execute_result"
    }
   ],
   "source": [
    "print 'GPS data points for clip data:'\n",
    "gpsDataPoints =  dataClip.loc[~ (dataClip['long'].isnull()),['long','lat']]\n",
    "gpsDataPoints['pointIndex'] = gpsDataPoints.index\n",
    "gpsDataPoints.head()"
   ]
  },
  {
   "cell_type": "code",
   "execution_count": 17,
   "metadata": {
    "collapsed": false
   },
   "outputs": [],
   "source": [
    "geometry = []\n",
    "for i in range(len(gpsDataPoints.index)):\n",
    "    if i == (len(gpsDataPoints.index)-1):\n",
    "        line = np.nan\n",
    "    else:\n",
    "        #get start and end points for each line\n",
    "        startPoint = Point(gpsDataPoints['long'].loc[gpsDataPoints.index[i]], gpsDataPoints['lat'].loc[gpsDataPoints.index[i]])\n",
    "        endPoint = Point(gpsDataPoints['long'].loc[gpsDataPoints.index[i+1]], gpsDataPoints['lat'].loc[gpsDataPoints.index[i+1]])\n",
    "        #convert to shapely wkt\n",
    "        line = LineString([startPoint,endPoint]).wkt\n",
    "        geometry.append(shapely.wkt.loads(line))\n",
    "\n",
    "\n"
   ]
  },
  {
   "cell_type": "code",
   "execution_count": 18,
   "metadata": {
    "collapsed": false
   },
   "outputs": [
    {
     "data": {
      "text/html": [
       "<div>\n",
       "<table border=\"1\" class=\"dataframe\">\n",
       "  <thead>\n",
       "    <tr style=\"text-align: right;\">\n",
       "      <th></th>\n",
       "      <th>long</th>\n",
       "      <th>lat</th>\n",
       "      <th>pointIndex</th>\n",
       "      <th>geometry</th>\n",
       "    </tr>\n",
       "  </thead>\n",
       "  <tbody>\n",
       "    <tr>\n",
       "      <th>49</th>\n",
       "      <td>-73.971799</td>\n",
       "      <td>40.643469</td>\n",
       "      <td>49</td>\n",
       "      <td>LINESTRING (-73.97179916 40.64346946, -73.9718...</td>\n",
       "    </tr>\n",
       "    <tr>\n",
       "      <th>250</th>\n",
       "      <td>-73.971850</td>\n",
       "      <td>40.643462</td>\n",
       "      <td>250</td>\n",
       "      <td>LINESTRING (-73.97184982 40.64346192, -73.9719...</td>\n",
       "    </tr>\n",
       "    <tr>\n",
       "      <th>451</th>\n",
       "      <td>-73.971901</td>\n",
       "      <td>40.643456</td>\n",
       "      <td>451</td>\n",
       "      <td>LINESTRING (-73.97190051 40.64345637, -73.9719...</td>\n",
       "    </tr>\n",
       "    <tr>\n",
       "      <th>656</th>\n",
       "      <td>-73.971952</td>\n",
       "      <td>40.643454</td>\n",
       "      <td>656</td>\n",
       "      <td>LINESTRING (-73.97195246 40.64345418, -73.9720...</td>\n",
       "    </tr>\n",
       "    <tr>\n",
       "      <th>857</th>\n",
       "      <td>-73.972003</td>\n",
       "      <td>40.643454</td>\n",
       "      <td>857</td>\n",
       "      <td>LINESTRING (-73.97200278 40.64345402, -73.9720...</td>\n",
       "    </tr>\n",
       "  </tbody>\n",
       "</table>\n",
       "</div>"
      ],
      "text/plain": [
       "          long        lat  pointIndex  \\\n",
       "49  -73.971799  40.643469          49   \n",
       "250 -73.971850  40.643462         250   \n",
       "451 -73.971901  40.643456         451   \n",
       "656 -73.971952  40.643454         656   \n",
       "857 -73.972003  40.643454         857   \n",
       "\n",
       "                                              geometry  \n",
       "49   LINESTRING (-73.97179916 40.64346946, -73.9718...  \n",
       "250  LINESTRING (-73.97184982 40.64346192, -73.9719...  \n",
       "451  LINESTRING (-73.97190051 40.64345637, -73.9719...  \n",
       "656  LINESTRING (-73.97195246 40.64345418, -73.9720...  \n",
       "857  LINESTRING (-73.97200278 40.64345402, -73.9720...  "
      ]
     },
     "execution_count": 18,
     "metadata": {},
     "output_type": "execute_result"
    }
   ],
   "source": [
    "gpsDataPoints = gpsDataPoints.iloc[:-1]\n",
    "crs = {'init': 'epsg:4326'}\n",
    "gpsDataPoints = gpd.GeoDataFrame(gpsDataPoints, crs=crs, geometry=geometry)\n",
    "gpsDataPoints.head()"
   ]
  },
  {
   "cell_type": "code",
   "execution_count": 19,
   "metadata": {
    "collapsed": false
   },
   "outputs": [
    {
     "data": {
      "text/plain": [
       "<matplotlib.axes._subplots.AxesSubplot at 0x7fa00591fcd0>"
      ]
     },
     "execution_count": 19,
     "metadata": {},
     "output_type": "execute_result"
    },
    {
     "data": {
      "image/png": "[encoded data removed]",
      "text/plain": [
       "<matplotlib.figure.Figure at 0x7fa006c4cc50>"
      ]
     },
     "metadata": {},
     "output_type": "display_data"
    }
   ],
   "source": [
    "gpsDataPoints.plot()"
   ]
  },
  {
   "cell_type": "markdown",
   "metadata": {},
   "source": [
    "## Total vector from XYZ"
   ]
  },
  {
   "cell_type": "code",
   "execution_count": 20,
   "metadata": {
    "collapsed": false
   },
   "outputs": [
    {
     "data": {
      "text/html": [
       "<div>\n",
       "<table border=\"1\" class=\"dataframe\">\n",
       "  <thead>\n",
       "    <tr style=\"text-align: right;\">\n",
       "      <th></th>\n",
       "      <th>long</th>\n",
       "      <th>lat</th>\n",
       "      <th>accelerationX</th>\n",
       "      <th>accelerationY</th>\n",
       "      <th>accelerationZ</th>\n",
       "      <th>pointIndex</th>\n",
       "    </tr>\n",
       "  </thead>\n",
       "  <tbody>\n",
       "    <tr>\n",
       "      <th>0</th>\n",
       "      <td>NaN</td>\n",
       "      <td>NaN</td>\n",
       "      <td>-0.469606</td>\n",
       "      <td>0.126763</td>\n",
       "      <td>-0.394292</td>\n",
       "      <td>NaN</td>\n",
       "    </tr>\n",
       "    <tr>\n",
       "      <th>1</th>\n",
       "      <td>NaN</td>\n",
       "      <td>NaN</td>\n",
       "      <td>-0.469606</td>\n",
       "      <td>0.126763</td>\n",
       "      <td>-0.394292</td>\n",
       "      <td>NaN</td>\n",
       "    </tr>\n",
       "    <tr>\n",
       "      <th>2</th>\n",
       "      <td>NaN</td>\n",
       "      <td>NaN</td>\n",
       "      <td>-0.469606</td>\n",
       "      <td>0.126763</td>\n",
       "      <td>-0.394292</td>\n",
       "      <td>NaN</td>\n",
       "    </tr>\n",
       "    <tr>\n",
       "      <th>3</th>\n",
       "      <td>NaN</td>\n",
       "      <td>NaN</td>\n",
       "      <td>-0.469606</td>\n",
       "      <td>0.126763</td>\n",
       "      <td>-0.394292</td>\n",
       "      <td>NaN</td>\n",
       "    </tr>\n",
       "    <tr>\n",
       "      <th>4</th>\n",
       "      <td>NaN</td>\n",
       "      <td>NaN</td>\n",
       "      <td>-0.469606</td>\n",
       "      <td>0.126763</td>\n",
       "      <td>-0.394292</td>\n",
       "      <td>NaN</td>\n",
       "    </tr>\n",
       "  </tbody>\n",
       "</table>\n",
       "</div>"
      ],
      "text/plain": [
       "   long  lat  accelerationX  accelerationY  accelerationZ  pointIndex\n",
       "0   NaN  NaN      -0.469606       0.126763      -0.394292         NaN\n",
       "1   NaN  NaN      -0.469606       0.126763      -0.394292         NaN\n",
       "2   NaN  NaN      -0.469606       0.126763      -0.394292         NaN\n",
       "3   NaN  NaN      -0.469606       0.126763      -0.394292         NaN\n",
       "4   NaN  NaN      -0.469606       0.126763      -0.394292         NaN"
      ]
     },
     "execution_count": 20,
     "metadata": {},
     "output_type": "execute_result"
    }
   ],
   "source": [
    "dataClip = dataClip.merge(gpsDataPoints.drop(['geometry'],axis=1),how='left')\n",
    "dataClip.head()"
   ]
  },
  {
   "cell_type": "code",
   "execution_count": 23,
   "metadata": {
    "collapsed": false
   },
   "outputs": [
    {
     "data": {
      "text/html": [
       "<div>\n",
       "<table border=\"1\" class=\"dataframe\">\n",
       "  <thead>\n",
       "    <tr style=\"text-align: right;\">\n",
       "      <th></th>\n",
       "      <th>long</th>\n",
       "      <th>lat</th>\n",
       "      <th>accelerationX</th>\n",
       "      <th>accelerationY</th>\n",
       "      <th>accelerationZ</th>\n",
       "      <th>pointIndex</th>\n",
       "    </tr>\n",
       "  </thead>\n",
       "  <tbody>\n",
       "    <tr>\n",
       "      <th>0</th>\n",
       "      <td>NaN</td>\n",
       "      <td>NaN</td>\n",
       "      <td>-0.469606</td>\n",
       "      <td>0.126763</td>\n",
       "      <td>-0.394292</td>\n",
       "      <td>NaN</td>\n",
       "    </tr>\n",
       "    <tr>\n",
       "      <th>1</th>\n",
       "      <td>NaN</td>\n",
       "      <td>NaN</td>\n",
       "      <td>-0.469606</td>\n",
       "      <td>0.126763</td>\n",
       "      <td>-0.394292</td>\n",
       "      <td>NaN</td>\n",
       "    </tr>\n",
       "    <tr>\n",
       "      <th>2</th>\n",
       "      <td>NaN</td>\n",
       "      <td>NaN</td>\n",
       "      <td>-0.469606</td>\n",
       "      <td>0.126763</td>\n",
       "      <td>-0.394292</td>\n",
       "      <td>NaN</td>\n",
       "    </tr>\n",
       "    <tr>\n",
       "      <th>3</th>\n",
       "      <td>NaN</td>\n",
       "      <td>NaN</td>\n",
       "      <td>-0.469606</td>\n",
       "      <td>0.126763</td>\n",
       "      <td>-0.394292</td>\n",
       "      <td>NaN</td>\n",
       "    </tr>\n",
       "    <tr>\n",
       "      <th>4</th>\n",
       "      <td>NaN</td>\n",
       "      <td>NaN</td>\n",
       "      <td>-0.469606</td>\n",
       "      <td>0.126763</td>\n",
       "      <td>-0.394292</td>\n",
       "      <td>NaN</td>\n",
       "    </tr>\n",
       "  </tbody>\n",
       "</table>\n",
       "</div>"
      ],
      "text/plain": [
       "   long  lat  accelerationX  accelerationY  accelerationZ  pointIndex\n",
       "0   NaN  NaN      -0.469606       0.126763      -0.394292         NaN\n",
       "1   NaN  NaN      -0.469606       0.126763      -0.394292         NaN\n",
       "2   NaN  NaN      -0.469606       0.126763      -0.394292         NaN\n",
       "3   NaN  NaN      -0.469606       0.126763      -0.394292         NaN\n",
       "4   NaN  NaN      -0.469606       0.126763      -0.394292         NaN"
      ]
     },
     "execution_count": 23,
     "metadata": {},
     "output_type": "execute_result"
    }
   ],
   "source": [
    "dataClip['pointIndex'] = dataClip['pointIndex'].fillna(method='ffill')\n",
    "dataClip.head()"
   ]
  },
  {
   "cell_type": "code",
   "execution_count": 24,
   "metadata": {
    "collapsed": false
   },
   "outputs": [
    {
     "data": {
      "text/html": [
       "<div>\n",
       "<table border=\"1\" class=\"dataframe\">\n",
       "  <thead>\n",
       "    <tr style=\"text-align: right;\">\n",
       "      <th></th>\n",
       "      <th>accelerationXShift</th>\n",
       "      <th>accelerationYShift</th>\n",
       "      <th>accelerationZShift</th>\n",
       "    </tr>\n",
       "  </thead>\n",
       "  <tbody>\n",
       "    <tr>\n",
       "      <th>0</th>\n",
       "      <td>NaN</td>\n",
       "      <td>NaN</td>\n",
       "      <td>NaN</td>\n",
       "    </tr>\n",
       "    <tr>\n",
       "      <th>1</th>\n",
       "      <td>-0.469606</td>\n",
       "      <td>0.126763</td>\n",
       "      <td>-0.394292</td>\n",
       "    </tr>\n",
       "    <tr>\n",
       "      <th>2</th>\n",
       "      <td>-0.469606</td>\n",
       "      <td>0.126763</td>\n",
       "      <td>-0.394292</td>\n",
       "    </tr>\n",
       "    <tr>\n",
       "      <th>3</th>\n",
       "      <td>-0.469606</td>\n",
       "      <td>0.126763</td>\n",
       "      <td>-0.394292</td>\n",
       "    </tr>\n",
       "    <tr>\n",
       "      <th>4</th>\n",
       "      <td>-0.469606</td>\n",
       "      <td>0.126763</td>\n",
       "      <td>-0.394292</td>\n",
       "    </tr>\n",
       "  </tbody>\n",
       "</table>\n",
       "</div>"
      ],
      "text/plain": [
       "   accelerationXShift  accelerationYShift  accelerationZShift\n",
       "0                 NaN                 NaN                 NaN\n",
       "1           -0.469606            0.126763           -0.394292\n",
       "2           -0.469606            0.126763           -0.394292\n",
       "3           -0.469606            0.126763           -0.394292\n",
       "4           -0.469606            0.126763           -0.394292"
      ]
     },
     "execution_count": 24,
     "metadata": {},
     "output_type": "execute_result"
    }
   ],
   "source": [
    "dataClipShifted = dataClip.shift(1)\n",
    "dataClipShifted.drop(['long','lat','pointIndex'],axis=1,inplace=True)\n",
    "dataClipShifted.columns = ['accelerationXShift','accelerationYShift','accelerationZShift']\n",
    "dataClip = pd.concat([dataClip,dataClipShifted],axis=1)\n",
    "dataClip.drop(['long','lat'],axis=1,inplace=True)\n",
    "dataClip.dropna(axis=0,how='any',inplace=True)\n",
    "\n",
    "dataClipShifted.head()"
   ]
  },
  {
   "cell_type": "markdown",
   "metadata": {},
   "source": [
    "## Calculating vector\n",
    "\n",
    "$ (x_1 -x_1lag)^2 +  (y_1 - y_1lag)^2 + (z_1 - z_1lag)^2 $"
   ]
  },
  {
   "cell_type": "code",
   "execution_count": 26,
   "metadata": {
    "collapsed": false
   },
   "outputs": [],
   "source": [
    "dataClip['V'] = (dataClip.accelerationX-dataClip.accelerationXShift) ** 2 + \\\n",
    "    (dataClip.accelerationY-dataClip.accelerationYShift) ** 2 + \\\n",
    "    (dataClip.accelerationZ-dataClip.accelerationZShift) ** 2 "
   ]
  },
  {
   "cell_type": "code",
   "execution_count": 29,
   "metadata": {
    "collapsed": false
   },
   "outputs": [
    {
     "data": {
      "text/html": [
       "<div>\n",
       "<table border=\"1\" class=\"dataframe\">\n",
       "  <thead>\n",
       "    <tr style=\"text-align: right;\">\n",
       "      <th></th>\n",
       "      <th>V</th>\n",
       "    </tr>\n",
       "    <tr>\n",
       "      <th>pointIndex</th>\n",
       "      <th></th>\n",
       "    </tr>\n",
       "  </thead>\n",
       "  <tbody>\n",
       "    <tr>\n",
       "      <th>49.0</th>\n",
       "      <td>12.526500</td>\n",
       "    </tr>\n",
       "    <tr>\n",
       "      <th>250.0</th>\n",
       "      <td>25.197377</td>\n",
       "    </tr>\n",
       "    <tr>\n",
       "      <th>451.0</th>\n",
       "      <td>38.801155</td>\n",
       "    </tr>\n",
       "    <tr>\n",
       "      <th>656.0</th>\n",
       "      <td>35.282547</td>\n",
       "    </tr>\n",
       "    <tr>\n",
       "      <th>857.0</th>\n",
       "      <td>27.912748</td>\n",
       "    </tr>\n",
       "  </tbody>\n",
       "</table>\n",
       "</div>"
      ],
      "text/plain": [
       "                    V\n",
       "pointIndex           \n",
       "49.0        12.526500\n",
       "250.0       25.197377\n",
       "451.0       38.801155\n",
       "656.0       35.282547\n",
       "857.0       27.912748"
      ]
     },
     "execution_count": 29,
     "metadata": {},
     "output_type": "execute_result"
    }
   ],
   "source": [
    "vectorInformation = dataClip.loc[:,['pointIndex','V']].groupby(by=['pointIndex']).sum()\n",
    "vectorInformation.head()"
   ]
  },
  {
   "cell_type": "code",
   "execution_count": 30,
   "metadata": {
    "collapsed": false
   },
   "outputs": [
    {
     "data": {
      "text/html": [
       "<div>\n",
       "<table border=\"1\" class=\"dataframe\">\n",
       "  <thead>\n",
       "    <tr style=\"text-align: right;\">\n",
       "      <th></th>\n",
       "      <th>pointIndex</th>\n",
       "      <th>V</th>\n",
       "    </tr>\n",
       "  </thead>\n",
       "  <tbody>\n",
       "    <tr>\n",
       "      <th>0</th>\n",
       "      <td>49.0</td>\n",
       "      <td>3.539280</td>\n",
       "    </tr>\n",
       "    <tr>\n",
       "      <th>1</th>\n",
       "      <td>250.0</td>\n",
       "      <td>5.019699</td>\n",
       "    </tr>\n",
       "    <tr>\n",
       "      <th>2</th>\n",
       "      <td>451.0</td>\n",
       "      <td>6.229057</td>\n",
       "    </tr>\n",
       "    <tr>\n",
       "      <th>3</th>\n",
       "      <td>656.0</td>\n",
       "      <td>5.939911</td>\n",
       "    </tr>\n",
       "    <tr>\n",
       "      <th>4</th>\n",
       "      <td>857.0</td>\n",
       "      <td>5.283252</td>\n",
       "    </tr>\n",
       "  </tbody>\n",
       "</table>\n",
       "</div>"
      ],
      "text/plain": [
       "   pointIndex         V\n",
       "0        49.0  3.539280\n",
       "1       250.0  5.019699\n",
       "2       451.0  6.229057\n",
       "3       656.0  5.939911\n",
       "4       857.0  5.283252"
      ]
     },
     "execution_count": 30,
     "metadata": {},
     "output_type": "execute_result"
    }
   ],
   "source": [
    "vectorInformation.reset_index(inplace=True)\n",
    "#apply the square root to the sum\n",
    "vectorInformation.V = vectorInformation.V.map(lambda x: np.sqrt(x))  \n",
    "vectorInformation.head()"
   ]
  },
  {
   "cell_type": "code",
   "execution_count": 31,
   "metadata": {
    "collapsed": false
   },
   "outputs": [],
   "source": [
    "gpsDataPoints = gpsDataPoints.merge(vectorInformation)"
   ]
  },
  {
   "cell_type": "code",
   "execution_count": 32,
   "metadata": {
    "collapsed": false
   },
   "outputs": [
    {
     "data": {
      "text/plain": [
       "<matplotlib.axes._subplots.AxesSubplot at 0x7f9ffbc01090>"
      ]
     },
     "execution_count": 32,
     "metadata": {},
     "output_type": "execute_result"
    },
    {
     "data": {
      "image/png": "[encoded data removed]",
      "text/plain": [
       "<matplotlib.figure.Figure at 0x7f9ffc049910>"
      ]
     },
     "metadata": {},
     "output_type": "display_data"
    }
   ],
   "source": [
    "gpsDataPoints.plot(column='V')"
   ]
  },
  {
   "cell_type": "code",
   "execution_count": null,
   "metadata": {
    "collapsed": true
   },
   "outputs": [],
   "source": []
  },
  {
   "cell_type": "code",
   "execution_count": null,
   "metadata": {
    "collapsed": true
   },
   "outputs": [],
   "source": []
  },
  {
   "cell_type": "code",
   "execution_count": null,
   "metadata": {
    "collapsed": true
   },
   "outputs": [],
   "source": []
  }
 ],
 "metadata": {
  "anaconda-cloud": {},
  "kernelspec": {
   "display_name": "Python [conda root]",
   "language": "python",
   "name": "conda-root-py"
  },
  "language_info": {
   "codemirror_mode": {
    "name": "ipython",
    "version": 2
   },
   "file_extension": ".py",
   "mimetype": "text/x-python",
   "name": "python",
   "nbconvert_exporter": "python",
   "pygments_lexer": "ipython2",
   "version": "2.7.12"
  }
 },
 "nbformat": 4,
 "nbformat_minor": 1
}
