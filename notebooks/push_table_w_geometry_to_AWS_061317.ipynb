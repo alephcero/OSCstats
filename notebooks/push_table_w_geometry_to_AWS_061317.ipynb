{
 "cells": [
  {
   "cell_type": "code",
   "execution_count": 1,
   "metadata": {
    "collapsed": false
   },
   "outputs": [],
   "source": [
    "import os,sys,inspect\n",
    "currentdir = os.path.dirname(os.path.abspath(inspect.getfile(inspect.currentframe())))\n",
    "parentdir = os.path.dirname(currentdir)\n",
    "sys.path.insert(0,parentdir) \n",
    "import loadOSCdata\n",
    "import pandas as pd\n",
    "import numpy as np\n",
    "import geopandas as gpd\n",
    "import matplotlib.pyplot as plt\n",
    "\n",
    "import psycopg2\n",
    "import osgeo.ogr\n",
    "import shapely\n",
    "import shapely.wkt\n",
    "%matplotlib inline"
   ]
  },
  {
   "cell_type": "code",
   "execution_count": 2,
   "metadata": {
    "collapsed": false
   },
   "outputs": [
    {
     "data": {
      "text/html": [
       "<div>\n",
       "<table border=\"1\" class=\"dataframe\">\n",
       "  <thead>\n",
       "    <tr style=\"text-align: right;\">\n",
       "      <th></th>\n",
       "      <th>timestamp</th>\n",
       "      <th>point_id</th>\n",
       "      <th>v_value</th>\n",
       "      <th>geometry</th>\n",
       "      <th>image_url</th>\n",
       "      <th>image_lab</th>\n",
       "      <th>trip_id</th>\n",
       "    </tr>\n",
       "  </thead>\n",
       "  <tbody>\n",
       "    <tr>\n",
       "      <th>359</th>\n",
       "      <td>2017-05-30 10:27:18.191175</td>\n",
       "      <td>0.0</td>\n",
       "      <td>10.769757</td>\n",
       "      <td>POINT (-73.974177 40.6807485)</td>\n",
       "      <td>http://storage4.openstreetcam.org/files/photo/...</td>\n",
       "      <td>acceptable</td>\n",
       "      <td>401441</td>\n",
       "    </tr>\n",
       "    <tr>\n",
       "      <th>464</th>\n",
       "      <td>2017-05-30 10:27:22.122909</td>\n",
       "      <td>1.0</td>\n",
       "      <td>10.747140</td>\n",
       "      <td>POINT (-73.97433599999999 40.68077)</td>\n",
       "      <td>http://storage4.openstreetcam.org/files/photo/...</td>\n",
       "      <td>acceptable</td>\n",
       "      <td>401441</td>\n",
       "    </tr>\n",
       "    <tr>\n",
       "      <th>548</th>\n",
       "      <td>2017-05-30 10:27:25.199758</td>\n",
       "      <td>2.0</td>\n",
       "      <td>4.727365</td>\n",
       "      <td>POINT (-73.97447149999999 40.6807915)</td>\n",
       "      <td>http://storage4.openstreetcam.org/files/photo/...</td>\n",
       "      <td>acceptable</td>\n",
       "      <td>401441</td>\n",
       "    </tr>\n",
       "    <tr>\n",
       "      <th>630</th>\n",
       "      <td>2017-05-30 10:27:28.167336</td>\n",
       "      <td>3.0</td>\n",
       "      <td>2.349433</td>\n",
       "      <td>POINT (-73.97454999999999 40.6807985)</td>\n",
       "      <td>http://storage4.openstreetcam.org/files/photo/...</td>\n",
       "      <td>bad</td>\n",
       "      <td>401441</td>\n",
       "    </tr>\n",
       "    <tr>\n",
       "      <th>741</th>\n",
       "      <td>2017-05-30 10:27:32.227059</td>\n",
       "      <td>4.0</td>\n",
       "      <td>6.292053</td>\n",
       "      <td>POINT (-73.974553 40.680786)</td>\n",
       "      <td>http://storage4.openstreetcam.org/files/photo/...</td>\n",
       "      <td>good</td>\n",
       "      <td>401441</td>\n",
       "    </tr>\n",
       "  </tbody>\n",
       "</table>\n",
       "</div>"
      ],
      "text/plain": [
       "                     timestamp  point_id    v_value  \\\n",
       "359 2017-05-30 10:27:18.191175       0.0  10.769757   \n",
       "464 2017-05-30 10:27:22.122909       1.0  10.747140   \n",
       "548 2017-05-30 10:27:25.199758       2.0   4.727365   \n",
       "630 2017-05-30 10:27:28.167336       3.0   2.349433   \n",
       "741 2017-05-30 10:27:32.227059       4.0   6.292053   \n",
       "\n",
       "                                  geometry  \\\n",
       "359          POINT (-73.974177 40.6807485)   \n",
       "464    POINT (-73.97433599999999 40.68077)   \n",
       "548  POINT (-73.97447149999999 40.6807915)   \n",
       "630  POINT (-73.97454999999999 40.6807985)   \n",
       "741           POINT (-73.974553 40.680786)   \n",
       "\n",
       "                                             image_url   image_lab  trip_id  \n",
       "359  http://storage4.openstreetcam.org/files/photo/...  acceptable   401441  \n",
       "464  http://storage4.openstreetcam.org/files/photo/...  acceptable   401441  \n",
       "548  http://storage4.openstreetcam.org/files/photo/...  acceptable   401441  \n",
       "630  http://storage4.openstreetcam.org/files/photo/...         bad   401441  \n",
       "741  http://storage4.openstreetcam.org/files/photo/...        good   401441  "
      ]
     },
     "execution_count": 2,
     "metadata": {},
     "output_type": "execute_result"
    }
   ],
   "source": [
    "data = loadOSCdata.downloadData(OSCid=401441, X = True, Y = True, Z = True, output = 'csv', outputFile = 'data.csv')\n",
    "data.head()"
   ]
  },
  {
   "cell_type": "code",
   "execution_count": 3,
   "metadata": {
    "collapsed": false
   },
   "outputs": [],
   "source": [
    "connect_str = \"dbname='squidbike' user='squidbike' \\\n",
    "host='rds-postgresql-10mintutorial.cbz1xmmdmpva.us-east-2.rds.amazonaws.com' \\\n",
    "port='5432' password='squidbikesql'\"\n",
    "conn = psycopg2.connect(connect_str)"
   ]
  },
  {
   "cell_type": "code",
   "execution_count": 4,
   "metadata": {
    "collapsed": true
   },
   "outputs": [],
   "source": [
    "cursor = conn.cursor()\n",
    "cursor.execute(\"SELECT * from accelerometer2\")\n",
    "rows = cursor.fetchall()"
   ]
  },
  {
   "cell_type": "code",
   "execution_count": null,
   "metadata": {
    "collapsed": true
   },
   "outputs": [],
   "source": [
    "'''\n",
    "link to aws PostGIS installation:\n",
    "\n",
    "http://docs.aws.amazon.com/AmazonRDS/latest/UserGuide/Appendix.PostgreSQL.CommonDBATasks.html#Appendix.PostgreSQL.CommonDBATasks.PostGIS\n",
    "\n",
    "'''"
   ]
  },
  {
   "cell_type": "code",
   "execution_count": 7,
   "metadata": {
    "collapsed": false
   },
   "outputs": [
    {
     "ename": "InternalError",
     "evalue": "current transaction is aborted, commands ignored until end of transaction block\n",
     "output_type": "error",
     "traceback": [
      "\u001b[0;31m---------------------------------------------------------------------------\u001b[0m",
      "\u001b[0;31mInternalError\u001b[0m                             Traceback (most recent call last)",
      "\u001b[0;32m<ipython-input-7-70e108d4021c>\u001b[0m in \u001b[0;36m<module>\u001b[0;34m()\u001b[0m\n\u001b[0;32m----> 1\u001b[0;31m \u001b[0mcursor\u001b[0m\u001b[0;34m.\u001b[0m\u001b[0mexecute\u001b[0m\u001b[0;34m(\u001b[0m\u001b[0;34m\"create extension postgis\"\u001b[0m\u001b[0;34m)\u001b[0m\u001b[0;34m\u001b[0m\u001b[0m\n\u001b[0m",
      "\u001b[0;31mInternalError\u001b[0m: current transaction is aborted, commands ignored until end of transaction block\n"
     ]
    }
   ],
   "source": [
    "cursor.execute(\"create extension postgis\")"
   ]
  },
  {
   "cell_type": "code",
   "execution_count": 5,
   "metadata": {
    "collapsed": false
   },
   "outputs": [
    {
     "ename": "ProgrammingError",
     "evalue": "type \"geometry\" does not exist\nLINE 1: ...    v_value numeric(10,5),               geometry Geometry, ...\n                                                             ^\n",
     "output_type": "error",
     "traceback": [
      "\u001b[0;31m---------------------------------------------------------------------------\u001b[0m",
      "\u001b[0;31mProgrammingError\u001b[0m                          Traceback (most recent call last)",
      "\u001b[0;32m<ipython-input-5-48af7996c295>\u001b[0m in \u001b[0;36m<module>\u001b[0;34m()\u001b[0m\n\u001b[1;32m      1\u001b[0m \u001b[0;31m#cursor.execute(\"DROP TABLE IF EXISTS bike_trip_testing\")\u001b[0m\u001b[0;34m\u001b[0m\u001b[0;34m\u001b[0m\u001b[0m\n\u001b[0;32m----> 2\u001b[0;31m \u001b[0mcursor\u001b[0m\u001b[0;34m.\u001b[0m\u001b[0mexecute\u001b[0m\u001b[0;34m(\u001b[0m\u001b[0;34m\"CREATE TABLE bike_trip_testing                (id SERIAL PRIMARY KEY,               timestamp Text,               point_id numeric(10,5),                v_value numeric(10,5),               geometry Geometry,               image_url Text,               image_lab Text,               trip_id Text               )\"\u001b[0m\u001b[0;34m)\u001b[0m\u001b[0;34m\u001b[0m\u001b[0m\n\u001b[0m\u001b[1;32m      3\u001b[0m \u001b[0mcursor\u001b[0m\u001b[0;34m.\u001b[0m\u001b[0mexecute\u001b[0m\u001b[0;34m(\u001b[0m\u001b[0;34m\"CREATE INDEX nycLionIndex ON bike_trip_testing USING GIST(Geometry)\"\u001b[0m\u001b[0;34m)\u001b[0m\u001b[0;34m\u001b[0m\u001b[0m\n",
      "\u001b[0;31mProgrammingError\u001b[0m: type \"geometry\" does not exist\nLINE 1: ...    v_value numeric(10,5),               geometry Geometry, ...\n                                                             ^\n"
     ]
    }
   ],
   "source": [
    "#cursor.execute(\"DROP TABLE IF EXISTS bike_trip_testing\")\n",
    "cursor.execute(\"CREATE TABLE bike_trip_testing \\\n",
    "               (id SERIAL PRIMARY KEY,\\\n",
    "               timestamp Text,\\\n",
    "               point_id numeric(10,5),\\\n",
    "               v_value numeric(10,5),\\\n",
    "               geometry Geometry,\\\n",
    "               image_url Text,\\\n",
    "               image_lab Text,\\\n",
    "               trip_id Text\\\n",
    "               )\")\n",
    "cursor.execute(\"CREATE INDEX nycLionIndex ON bike_trip_testing USING GIST(Geometry)\")"
   ]
  },
  {
   "cell_type": "code",
   "execution_count": null,
   "metadata": {
    "collapsed": true
   },
   "outputs": [],
   "source": [
    "#Saving records in the table\n",
    "for index in range(len(data)):\n",
    "    timestamp = data.ix[index, 'timestamp']\n",
    "    point_id = data.ix[index, 'Street']\n",
    "    v_value = data.ix[index, 'v_value']\n",
    "    geometry = data.ix[index, 'geometry']\n",
    "    image_url = data.ix[index, 'image_url']\n",
    "    image_lab = data.ix[index, 'image_lab']\n",
    "    trip_id = data.ix[index, 'trip_id']\n",
    "    cursor.execute(\"INSERT INTO geoStreetTalk (timestamp, point_id, v_value, geometry, image_url, image_lab,\\\n",
    "    trip_id) \\\n",
    "    VALUES ('%s', '%d', '%d', ST_GeomFromText('%s', 4326), '%s',\\\n",
    "    '%s', '%s')\"\\\n",
    "    %(timestamp, point_id, v_value, geometry, image_url, \\\n",
    "    image_lab, trip_id))\n",
    "#     if index == 1000:\n",
    "#         break\n",
    "connection.commit()"
   ]
  }
 ],
 "metadata": {
  "anaconda-cloud": {},
  "kernelspec": {
   "display_name": "Python [Root]",
   "language": "python",
   "name": "Python [Root]"
  },
  "language_info": {
   "codemirror_mode": {
    "name": "ipython",
    "version": 2
   },
   "file_extension": ".py",
   "mimetype": "text/x-python",
   "name": "python",
   "nbconvert_exporter": "python",
   "pygments_lexer": "ipython2",
   "version": "2.7.12"
  }
 },
 "nbformat": 4,
 "nbformat_minor": 1
}
