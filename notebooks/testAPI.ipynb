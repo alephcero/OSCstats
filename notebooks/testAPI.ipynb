{
 "cells": [
  {
   "cell_type": "code",
   "execution_count": 1,
   "metadata": {
    "collapsed": false
   },
   "outputs": [],
   "source": [
    "import os,sys,inspect\n",
    "currentdir = os.path.dirname(os.path.abspath(inspect.getfile(inspect.currentframe())))\n",
    "parentdir = os.path.dirname(currentdir)\n",
    "sys.path.insert(0,parentdir) \n",
    "import loadOSCdata\n",
    "import pandas as pd\n",
    "import numpy as np\n",
    "import geopandas as gpd\n",
    "import matplotlib.pyplot as plt\n",
    "%matplotlib inline"
   ]
  },
  {
   "cell_type": "code",
   "execution_count": 2,
   "metadata": {
    "collapsed": false
   },
   "outputs": [
    {
     "data": {
      "text/html": [
       "<div>\n",
       "<table border=\"1\" class=\"dataframe\">\n",
       "  <thead>\n",
       "    <tr style=\"text-align: right;\">\n",
       "      <th></th>\n",
       "      <th>timestamp</th>\n",
       "      <th>point_id</th>\n",
       "      <th>v_value</th>\n",
       "      <th>geometry</th>\n",
       "      <th>image_url</th>\n",
       "      <th>image_lab</th>\n",
       "      <th>trip_id</th>\n",
       "    </tr>\n",
       "  </thead>\n",
       "  <tbody>\n",
       "    <tr>\n",
       "      <th>792</th>\n",
       "      <td>2017-05-26 17:15:57.918</td>\n",
       "      <td>0.0</td>\n",
       "      <td>0.761113</td>\n",
       "      <td>POINT (-73.93671009000001 40.704303425)</td>\n",
       "      <td>http://storage4.openstreetcam.org/files/photo/...</td>\n",
       "      <td>NaN</td>\n",
       "      <td>367385</td>\n",
       "    </tr>\n",
       "    <tr>\n",
       "      <th>3462</th>\n",
       "      <td>2017-05-26 17:16:13.945</td>\n",
       "      <td>1.0</td>\n",
       "      <td>8.750670</td>\n",
       "      <td>POINT (-73.936764505 40.70428552)</td>\n",
       "      <td>http://storage4.openstreetcam.org/files/photo/...</td>\n",
       "      <td>NaN</td>\n",
       "      <td>367385</td>\n",
       "    </tr>\n",
       "    <tr>\n",
       "      <th>5727</th>\n",
       "      <td>2017-05-26 17:16:30.904</td>\n",
       "      <td>2.0</td>\n",
       "      <td>25.468589</td>\n",
       "      <td>POINT (-73.93671463999999 40.704234995)</td>\n",
       "      <td>http://storage4.openstreetcam.org/files/photo/...</td>\n",
       "      <td>NaN</td>\n",
       "      <td>367385</td>\n",
       "    </tr>\n",
       "    <tr>\n",
       "      <th>6128</th>\n",
       "      <td>2017-05-26 17:16:34.900</td>\n",
       "      <td>3.0</td>\n",
       "      <td>27.397556</td>\n",
       "      <td>POINT (-73.93687019000001 40.704219665)</td>\n",
       "      <td>http://storage4.openstreetcam.org/files/photo/...</td>\n",
       "      <td>NaN</td>\n",
       "      <td>367385</td>\n",
       "    </tr>\n",
       "    <tr>\n",
       "      <th>6434</th>\n",
       "      <td>2017-05-26 17:16:37.900</td>\n",
       "      <td>4.0</td>\n",
       "      <td>36.878148</td>\n",
       "      <td>POINT (-73.937003105 40.70423295000001)</td>\n",
       "      <td>http://storage4.openstreetcam.org/files/photo/...</td>\n",
       "      <td>NaN</td>\n",
       "      <td>367385</td>\n",
       "    </tr>\n",
       "  </tbody>\n",
       "</table>\n",
       "</div>"
      ],
      "text/plain": [
       "                   timestamp  point_id    v_value  \\\n",
       "792  2017-05-26 17:15:57.918       0.0   0.761113   \n",
       "3462 2017-05-26 17:16:13.945       1.0   8.750670   \n",
       "5727 2017-05-26 17:16:30.904       2.0  25.468589   \n",
       "6128 2017-05-26 17:16:34.900       3.0  27.397556   \n",
       "6434 2017-05-26 17:16:37.900       4.0  36.878148   \n",
       "\n",
       "                                     geometry  \\\n",
       "792   POINT (-73.93671009000001 40.704303425)   \n",
       "3462        POINT (-73.936764505 40.70428552)   \n",
       "5727  POINT (-73.93671463999999 40.704234995)   \n",
       "6128  POINT (-73.93687019000001 40.704219665)   \n",
       "6434  POINT (-73.937003105 40.70423295000001)   \n",
       "\n",
       "                                              image_url  image_lab  trip_id  \n",
       "792   http://storage4.openstreetcam.org/files/photo/...        NaN   367385  \n",
       "3462  http://storage4.openstreetcam.org/files/photo/...        NaN   367385  \n",
       "5727  http://storage4.openstreetcam.org/files/photo/...        NaN   367385  \n",
       "6128  http://storage4.openstreetcam.org/files/photo/...        NaN   367385  \n",
       "6434  http://storage4.openstreetcam.org/files/photo/...        NaN   367385  "
      ]
     },
     "execution_count": 2,
     "metadata": {},
     "output_type": "execute_result"
    }
   ],
   "source": [
    "data = loadOSCdata.downloadData(OSCid=367385, X = True, Y = True, Z = True, output = 'csv', outputFile = 'data.csv')\n",
    "data.head()"
   ]
  },
  {
   "cell_type": "code",
   "execution_count": 3,
   "metadata": {
    "collapsed": true
   },
   "outputs": [],
   "source": [
    "bufers = gpd.read_file('../data/nyc-bike-routes/nyc_bike_30mbuffer_epsg=3857.shp')\n",
    "bikelanes=gpd.read_file('../data/nyc-bike-routes/nyc_bike_routes_2017.shp')\n"
   ]
  },
  {
   "cell_type": "code",
   "execution_count": 4,
   "metadata": {
    "collapsed": false
   },
   "outputs": [
    {
     "data": {
      "text/html": [
       "<div>\n",
       "<table border=\"1\" class=\"dataframe\">\n",
       "  <thead>\n",
       "    <tr style=\"text-align: right;\">\n",
       "      <th></th>\n",
       "      <th>timestamp</th>\n",
       "      <th>point_id</th>\n",
       "      <th>v_value</th>\n",
       "      <th>geometry</th>\n",
       "      <th>image_url</th>\n",
       "      <th>image_lab</th>\n",
       "      <th>trip_id</th>\n",
       "      <th>bikelane_id</th>\n",
       "      <th>original_x</th>\n",
       "      <th>original_y</th>\n",
       "    </tr>\n",
       "  </thead>\n",
       "  <tbody>\n",
       "    <tr>\n",
       "      <th>792</th>\n",
       "      <td>2017-05-26 17:15:57.918</td>\n",
       "      <td>0.0</td>\n",
       "      <td>0.761113</td>\n",
       "      <td>NaN</td>\n",
       "      <td>http://storage4.openstreetcam.org/files/photo/...</td>\n",
       "      <td>NaN</td>\n",
       "      <td>367385</td>\n",
       "      <td>NaN</td>\n",
       "      <td>-73.936710</td>\n",
       "      <td>40.704303</td>\n",
       "    </tr>\n",
       "    <tr>\n",
       "      <th>3462</th>\n",
       "      <td>2017-05-26 17:16:13.945</td>\n",
       "      <td>1.0</td>\n",
       "      <td>8.750670</td>\n",
       "      <td>NaN</td>\n",
       "      <td>http://storage4.openstreetcam.org/files/photo/...</td>\n",
       "      <td>NaN</td>\n",
       "      <td>367385</td>\n",
       "      <td>NaN</td>\n",
       "      <td>-73.936765</td>\n",
       "      <td>40.704286</td>\n",
       "    </tr>\n",
       "    <tr>\n",
       "      <th>5727</th>\n",
       "      <td>2017-05-26 17:16:30.904</td>\n",
       "      <td>2.0</td>\n",
       "      <td>25.468589</td>\n",
       "      <td>NaN</td>\n",
       "      <td>http://storage4.openstreetcam.org/files/photo/...</td>\n",
       "      <td>NaN</td>\n",
       "      <td>367385</td>\n",
       "      <td>NaN</td>\n",
       "      <td>-73.936715</td>\n",
       "      <td>40.704235</td>\n",
       "    </tr>\n",
       "    <tr>\n",
       "      <th>6128</th>\n",
       "      <td>2017-05-26 17:16:34.900</td>\n",
       "      <td>3.0</td>\n",
       "      <td>27.397556</td>\n",
       "      <td>NaN</td>\n",
       "      <td>http://storage4.openstreetcam.org/files/photo/...</td>\n",
       "      <td>NaN</td>\n",
       "      <td>367385</td>\n",
       "      <td>NaN</td>\n",
       "      <td>-73.936870</td>\n",
       "      <td>40.704220</td>\n",
       "    </tr>\n",
       "    <tr>\n",
       "      <th>6434</th>\n",
       "      <td>2017-05-26 17:16:37.900</td>\n",
       "      <td>4.0</td>\n",
       "      <td>36.878148</td>\n",
       "      <td>NaN</td>\n",
       "      <td>http://storage4.openstreetcam.org/files/photo/...</td>\n",
       "      <td>NaN</td>\n",
       "      <td>367385</td>\n",
       "      <td>NaN</td>\n",
       "      <td>-73.937003</td>\n",
       "      <td>40.704233</td>\n",
       "    </tr>\n",
       "  </tbody>\n",
       "</table>\n",
       "</div>"
      ],
      "text/plain": [
       "                   timestamp  point_id    v_value geometry  \\\n",
       "792  2017-05-26 17:15:57.918       0.0   0.761113      NaN   \n",
       "3462 2017-05-26 17:16:13.945       1.0   8.750670      NaN   \n",
       "5727 2017-05-26 17:16:30.904       2.0  25.468589      NaN   \n",
       "6128 2017-05-26 17:16:34.900       3.0  27.397556      NaN   \n",
       "6434 2017-05-26 17:16:37.900       4.0  36.878148      NaN   \n",
       "\n",
       "                                              image_url  image_lab  trip_id  \\\n",
       "792   http://storage4.openstreetcam.org/files/photo/...        NaN   367385   \n",
       "3462  http://storage4.openstreetcam.org/files/photo/...        NaN   367385   \n",
       "5727  http://storage4.openstreetcam.org/files/photo/...        NaN   367385   \n",
       "6128  http://storage4.openstreetcam.org/files/photo/...        NaN   367385   \n",
       "6434  http://storage4.openstreetcam.org/files/photo/...        NaN   367385   \n",
       "\n",
       "      bikelane_id  original_x  original_y  \n",
       "792           NaN  -73.936710   40.704303  \n",
       "3462          NaN  -73.936765   40.704286  \n",
       "5727          NaN  -73.936715   40.704235  \n",
       "6128          NaN  -73.936870   40.704220  \n",
       "6434          NaN  -73.937003   40.704233  "
      ]
     },
     "execution_count": 4,
     "metadata": {},
     "output_type": "execute_result"
    }
   ],
   "source": [
    "pointsDF = loadOSCdata.snapToBikelane(bikelaneDF = bikelanes, bufersDF = bufers, pointsDF = data)\n",
    "pointsDF.head()"
   ]
  },
  {
   "cell_type": "code",
   "execution_count": 5,
   "metadata": {
    "collapsed": false
   },
   "outputs": [],
   "source": [
    "#pointsDF['original_x'] = pointsDF.geometry.map(lambda coord: coord.x)"
   ]
  },
  {
   "cell_type": "code",
   "execution_count": 6,
   "metadata": {
    "collapsed": false
   },
   "outputs": [
    {
     "data": {
      "text/html": [
       "<div>\n",
       "<table border=\"1\" class=\"dataframe\">\n",
       "  <thead>\n",
       "    <tr style=\"text-align: right;\">\n",
       "      <th></th>\n",
       "      <th>timestamp</th>\n",
       "      <th>point_id</th>\n",
       "      <th>v_value</th>\n",
       "      <th>geometry</th>\n",
       "      <th>image_url</th>\n",
       "      <th>image_lab</th>\n",
       "      <th>trip_id</th>\n",
       "      <th>bikelane_id</th>\n",
       "      <th>original_x</th>\n",
       "      <th>original_y</th>\n",
       "    </tr>\n",
       "  </thead>\n",
       "  <tbody>\n",
       "    <tr>\n",
       "      <th>792</th>\n",
       "      <td>2017-05-26 17:15:57.918</td>\n",
       "      <td>0.0</td>\n",
       "      <td>0.761113</td>\n",
       "      <td>NaN</td>\n",
       "      <td>http://storage4.openstreetcam.org/files/photo/...</td>\n",
       "      <td>NaN</td>\n",
       "      <td>367385</td>\n",
       "      <td>NaN</td>\n",
       "      <td>-73.936710</td>\n",
       "      <td>40.704303</td>\n",
       "    </tr>\n",
       "    <tr>\n",
       "      <th>3462</th>\n",
       "      <td>2017-05-26 17:16:13.945</td>\n",
       "      <td>1.0</td>\n",
       "      <td>8.750670</td>\n",
       "      <td>NaN</td>\n",
       "      <td>http://storage4.openstreetcam.org/files/photo/...</td>\n",
       "      <td>NaN</td>\n",
       "      <td>367385</td>\n",
       "      <td>NaN</td>\n",
       "      <td>-73.936765</td>\n",
       "      <td>40.704286</td>\n",
       "    </tr>\n",
       "    <tr>\n",
       "      <th>5727</th>\n",
       "      <td>2017-05-26 17:16:30.904</td>\n",
       "      <td>2.0</td>\n",
       "      <td>25.468589</td>\n",
       "      <td>NaN</td>\n",
       "      <td>http://storage4.openstreetcam.org/files/photo/...</td>\n",
       "      <td>NaN</td>\n",
       "      <td>367385</td>\n",
       "      <td>NaN</td>\n",
       "      <td>-73.936715</td>\n",
       "      <td>40.704235</td>\n",
       "    </tr>\n",
       "    <tr>\n",
       "      <th>6128</th>\n",
       "      <td>2017-05-26 17:16:34.900</td>\n",
       "      <td>3.0</td>\n",
       "      <td>27.397556</td>\n",
       "      <td>NaN</td>\n",
       "      <td>http://storage4.openstreetcam.org/files/photo/...</td>\n",
       "      <td>NaN</td>\n",
       "      <td>367385</td>\n",
       "      <td>NaN</td>\n",
       "      <td>-73.936870</td>\n",
       "      <td>40.704220</td>\n",
       "    </tr>\n",
       "    <tr>\n",
       "      <th>6434</th>\n",
       "      <td>2017-05-26 17:16:37.900</td>\n",
       "      <td>4.0</td>\n",
       "      <td>36.878148</td>\n",
       "      <td>NaN</td>\n",
       "      <td>http://storage4.openstreetcam.org/files/photo/...</td>\n",
       "      <td>NaN</td>\n",
       "      <td>367385</td>\n",
       "      <td>NaN</td>\n",
       "      <td>-73.937003</td>\n",
       "      <td>40.704233</td>\n",
       "    </tr>\n",
       "  </tbody>\n",
       "</table>\n",
       "</div>"
      ],
      "text/plain": [
       "                   timestamp  point_id    v_value geometry  \\\n",
       "792  2017-05-26 17:15:57.918       0.0   0.761113      NaN   \n",
       "3462 2017-05-26 17:16:13.945       1.0   8.750670      NaN   \n",
       "5727 2017-05-26 17:16:30.904       2.0  25.468589      NaN   \n",
       "6128 2017-05-26 17:16:34.900       3.0  27.397556      NaN   \n",
       "6434 2017-05-26 17:16:37.900       4.0  36.878148      NaN   \n",
       "\n",
       "                                              image_url  image_lab  trip_id  \\\n",
       "792   http://storage4.openstreetcam.org/files/photo/...        NaN   367385   \n",
       "3462  http://storage4.openstreetcam.org/files/photo/...        NaN   367385   \n",
       "5727  http://storage4.openstreetcam.org/files/photo/...        NaN   367385   \n",
       "6128  http://storage4.openstreetcam.org/files/photo/...        NaN   367385   \n",
       "6434  http://storage4.openstreetcam.org/files/photo/...        NaN   367385   \n",
       "\n",
       "      bikelane_id  original_x  original_y  \n",
       "792           NaN  -73.936710   40.704303  \n",
       "3462          NaN  -73.936765   40.704286  \n",
       "5727          NaN  -73.936715   40.704235  \n",
       "6128          NaN  -73.936870   40.704220  \n",
       "6434          NaN  -73.937003   40.704233  "
      ]
     },
     "execution_count": 6,
     "metadata": {},
     "output_type": "execute_result"
    }
   ],
   "source": [
    "pointsDF.head()"
   ]
  },
  {
   "cell_type": "code",
   "execution_count": 8,
   "metadata": {
    "collapsed": false
   },
   "outputs": [
    {
     "data": {
      "text/plain": [
       "44"
      ]
     },
     "execution_count": 8,
     "metadata": {},
     "output_type": "execute_result"
    }
   ],
   "source": [
    "(~pointsDF.geometry.isnull()).sum()"
   ]
  },
  {
   "cell_type": "code",
   "execution_count": null,
   "metadata": {
    "collapsed": false
   },
   "outputs": [],
   "source": [
    "\n",
    "'''\n",
    "pointsDF.timestamp = pointsDF.timestamp.map(lambda x: str(x))\n",
    "\n",
    "point = pointsDF.drop(['line','pointOnLine'],axis=1)\n",
    "point = point.to_crs(epsg=4326)\n",
    "point.to_file('point')\n",
    "\n",
    "line = pointsDF.drop(['geometry','pointOnLine','image_lab'],axis=1)\n",
    "\n",
    "\n",
    "line.columns = [u'timestamp', u'point_id', u'v_value', u'image_url', \n",
    "       u'trip_id', u'geometry', u'bikelanesID']\n",
    "line = line.dropna().to_crs(epsg=4326)\n",
    "line.to_file('line')\n",
    "\n",
    "\n",
    "newPoint = pointsDF.drop(['geometry','line','image_lab'],axis=1)\n",
    "newPoint.columns = [u'timestamp', u'point_id', u'v_value', u'image_url', u'trip_id',\n",
    "       u'bikelanesID', u'geometry']\n",
    "newPoint = newPoint.dropna().to_crs(epsg=4326)\n",
    "newPoint.to_file('newPoint')\n",
    "newPoint.head()\n",
    "'''"
   ]
  },
  {
   "cell_type": "code",
   "execution_count": null,
   "metadata": {
    "collapsed": false
   },
   "outputs": [],
   "source": [
    "\n"
   ]
  },
  {
   "cell_type": "code",
   "execution_count": null,
   "metadata": {
    "collapsed": false
   },
   "outputs": [],
   "source": []
  },
  {
   "cell_type": "code",
   "execution_count": null,
   "metadata": {
    "collapsed": true
   },
   "outputs": [],
   "source": []
  }
 ],
 "metadata": {
  "anaconda-cloud": {},
  "kernelspec": {
   "display_name": "Python [conda root]",
   "language": "python",
   "name": "conda-root-py"
  },
  "language_info": {
   "codemirror_mode": {
    "name": "ipython",
    "version": 2
   },
   "file_extension": ".py",
   "mimetype": "text/x-python",
   "name": "python",
   "nbconvert_exporter": "python",
   "pygments_lexer": "ipython2",
   "version": "2.7.12"
  }
 },
 "nbformat": 4,
 "nbformat_minor": 1
}
