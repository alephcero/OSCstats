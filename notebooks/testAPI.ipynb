{
 "cells": [
  {
   "cell_type": "code",
   "execution_count": 1,
   "metadata": {
    "collapsed": true
   },
   "outputs": [],
   "source": [
    "import os,sys,inspect\n",
    "currentdir = os.path.dirname(os.path.abspath(inspect.getfile(inspect.currentframe())))\n",
    "parentdir = os.path.dirname(currentdir)\n",
    "sys.path.insert(0,parentdir) \n",
    "import loadOSCdata\n"
   ]
  },
  {
   "cell_type": "code",
   "execution_count": 2,
   "metadata": {
    "collapsed": false
   },
   "outputs": [
    {
     "data": {
      "text/html": [
       "<div>\n",
       "<table border=\"1\" class=\"dataframe\">\n",
       "  <thead>\n",
       "    <tr style=\"text-align: right;\">\n",
       "      <th></th>\n",
       "      <th>timestamp</th>\n",
       "      <th>long</th>\n",
       "      <th>lat</th>\n",
       "      <th>pointIndex</th>\n",
       "      <th>geometry</th>\n",
       "      <th>V</th>\n",
       "    </tr>\n",
       "  </thead>\n",
       "  <tbody>\n",
       "    <tr>\n",
       "      <th>0</th>\n",
       "      <td>2017-05-15 22:28:21.171333</td>\n",
       "      <td>-74.000973</td>\n",
       "      <td>40.695163</td>\n",
       "      <td>136</td>\n",
       "      <td>POINT (-74.00097359999999 40.69516439)</td>\n",
       "      <td>1.134069</td>\n",
       "    </tr>\n",
       "    <tr>\n",
       "      <th>1</th>\n",
       "      <td>2017-05-15 22:28:22.183394</td>\n",
       "      <td>-74.000974</td>\n",
       "      <td>40.695165</td>\n",
       "      <td>341</td>\n",
       "      <td>POINT (-74.000974575 40.69516552)</td>\n",
       "      <td>0.780236</td>\n",
       "    </tr>\n",
       "    <tr>\n",
       "      <th>2</th>\n",
       "      <td>2017-05-15 22:28:23.209512</td>\n",
       "      <td>-74.000975</td>\n",
       "      <td>40.695166</td>\n",
       "      <td>546</td>\n",
       "      <td>POINT (-74.00097883000001 40.695164275)</td>\n",
       "      <td>0.840056</td>\n",
       "    </tr>\n",
       "    <tr>\n",
       "      <th>3</th>\n",
       "      <td>2017-05-15 22:28:24.210884</td>\n",
       "      <td>-74.000982</td>\n",
       "      <td>40.695163</td>\n",
       "      <td>825</td>\n",
       "      <td>POINT (-74.00098446999999 40.69516133)</td>\n",
       "      <td>1.034515</td>\n",
       "    </tr>\n",
       "    <tr>\n",
       "      <th>4</th>\n",
       "      <td>2017-05-15 22:28:25.182545</td>\n",
       "      <td>-74.000986</td>\n",
       "      <td>40.695160</td>\n",
       "      <td>1216</td>\n",
       "      <td>POINT (-74.000988475 40.695159305)</td>\n",
       "      <td>1.447413</td>\n",
       "    </tr>\n",
       "  </tbody>\n",
       "</table>\n",
       "</div>"
      ],
      "text/plain": [
       "                    timestamp       long        lat  pointIndex  \\\n",
       "0  2017-05-15 22:28:21.171333 -74.000973  40.695163         136   \n",
       "1  2017-05-15 22:28:22.183394 -74.000974  40.695165         341   \n",
       "2  2017-05-15 22:28:23.209512 -74.000975  40.695166         546   \n",
       "3  2017-05-15 22:28:24.210884 -74.000982  40.695163         825   \n",
       "4  2017-05-15 22:28:25.182545 -74.000986  40.695160        1216   \n",
       "\n",
       "                                  geometry         V  \n",
       "0   POINT (-74.00097359999999 40.69516439)  1.134069  \n",
       "1        POINT (-74.000974575 40.69516552)  0.780236  \n",
       "2  POINT (-74.00097883000001 40.695164275)  0.840056  \n",
       "3   POINT (-74.00098446999999 40.69516133)  1.034515  \n",
       "4       POINT (-74.000988475 40.695159305)  1.447413  "
      ]
     },
     "execution_count": 2,
     "metadata": {},
     "output_type": "execute_result"
    }
   ],
   "source": [
    "data = loadOSCdata.queryOSCapi(OSCid = 219598,X = True, Y = True, Z = True, output = 'csv', outputFile = 'data.csv')\n",
    "data.head()"
   ]
  },
  {
   "cell_type": "code",
   "execution_count": null,
   "metadata": {
    "collapsed": true
   },
   "outputs": [],
   "source": []
  }
 ],
 "metadata": {
  "anaconda-cloud": {},
  "kernelspec": {
   "display_name": "Python [conda root]",
   "language": "python",
   "name": "conda-root-py"
  },
  "language_info": {
   "codemirror_mode": {
    "name": "ipython",
    "version": 2
   },
   "file_extension": ".py",
   "mimetype": "text/x-python",
   "name": "python",
   "nbconvert_exporter": "python",
   "pygments_lexer": "ipython2",
   "version": "2.7.12"
  }
 },
 "nbformat": 4,
 "nbformat_minor": 1
}
