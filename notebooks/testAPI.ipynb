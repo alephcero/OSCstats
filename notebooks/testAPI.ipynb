{
 "cells": [
  {
   "cell_type": "code",
   "execution_count": 1,
   "metadata": {
    "collapsed": false
   },
   "outputs": [],
   "source": [
    "import os,sys,inspect\n",
    "currentdir = os.path.dirname(os.path.abspath(inspect.getfile(inspect.currentframe())))\n",
    "parentdir = os.path.dirname(currentdir)\n",
    "sys.path.insert(0,parentdir) \n",
    "import loadOSCdata\n",
    "import pandas as pd\n",
    "import numpy as np"
   ]
  },
  {
   "cell_type": "code",
   "execution_count": 2,
   "metadata": {
    "collapsed": true
   },
   "outputs": [],
   "source": [
    "#idNotWork = 292590\n",
    "idWork=219598"
   ]
  },
  {
   "cell_type": "code",
   "execution_count": 3,
   "metadata": {
    "collapsed": true
   },
   "outputs": [],
   "source": [
    "geoffTrip = 401439"
   ]
  },
  {
   "cell_type": "code",
   "execution_count": null,
   "metadata": {
    "collapsed": false
   },
   "outputs": [],
   "source": [
    "fotos = loadOSCdata.queryOSCapi(OSCid = geoffTrip, output = 'csv', outputFile = 'photos.csv',dataType='photos')\n",
    "fotos.head()"
   ]
  },
  {
   "cell_type": "code",
   "execution_count": null,
   "metadata": {
    "collapsed": false
   },
   "outputs": [],
   "source": [
    "acce = loadOSCdata.queryOSCapi(OSCid = idWork, output = 'csv', outputFile = 'acce.csv',dataType='accelerometer')\n",
    "acce.head()"
   ]
  },
  {
   "cell_type": "code",
   "execution_count": null,
   "metadata": {
    "collapsed": false
   },
   "outputs": [],
   "source": [
    "#acce\n",
    "\n",
    "##tripid\n",
    "##change pointIndex to Point iD\n",
    "\n",
    "#photo\n",
    "##pointID\n",
    "##tripid\n",
    "##timestamp"
   ]
  },
  {
   "cell_type": "code",
   "execution_count": null,
   "metadata": {
    "collapsed": false
   },
   "outputs": [],
   "source": [
    "fotos.pictureName[0]"
   ]
  },
  {
   "cell_type": "code",
   "execution_count": null,
   "metadata": {
    "collapsed": true
   },
   "outputs": [],
   "source": [
    "data = loadOSCdata.getOSCjson(OSCid=geoffTrip)"
   ]
  },
  {
   "cell_type": "code",
   "execution_count": null,
   "metadata": {
    "collapsed": true
   },
   "outputs": [],
   "source": [
    "data = data['osv']"
   ]
  },
  {
   "cell_type": "code",
   "execution_count": null,
   "metadata": {
    "collapsed": true
   },
   "outputs": [],
   "source": [
    "OSCid = 401439"
   ]
  },
  {
   "cell_type": "code",
   "execution_count": null,
   "metadata": {
    "collapsed": false
   },
   "outputs": [],
   "source": [
    "totalPhotos = len(data['photos'])\n",
    "\n",
    "\n",
    "pictureName = [data['photos'][i]['name'] for i in range(totalPhotos)]\n",
    "quality = np.repeat(np.nan,totalPhotos)\n",
    "latitude = [data['photos'][i]['lat'] for i in range(totalPhotos)]\n",
    "longitude = [data['photos'][i]['lng'] for i in range(totalPhotos)]\n",
    "timestamp = [data['photos'][i]['date_added'] for i in range(totalPhotos)]\n",
    "\n",
    "\n",
    "outputReturn = pd.DataFrame({'pictureName':pictureName,\n",
    "                                     'quality':quality,\n",
    "                                     'latitude':latitude,\n",
    "                                     'longitude':longitude,\n",
    "                            'timestamp':timestamp})\n",
    "\n",
    "\n",
    "#photo\n",
    "##pointID\n",
    "##tripid\n",
    "##timestamp\n",
    "outputReturn['tripID'] = OSCid\n",
    "outputReturn['pointID'] = outputReturn.index\n",
    "\n",
    "if not(os.path.exists(\"../data\")):\n",
    "    os.system('mkdir data')\n",
    "    \n",
    "if not(os.path.exists('../data/' + str(OSCid))):\n",
    "    os.system('mkdir ../data/' + str(OSCid))\n",
    "            \n",
    "#download data\n",
    "for i in range(outputReturn.shape[0]):\n",
    "    photoURL = outputReturn.pictureName[i][9:]\n",
    "    oscURL = 'http://'+outputReturn.pictureName[0][0:8]+'.openstreetcam.org/'\n",
    "    os.system('wget '+ oscURL + photoURL + ' -P ' + '../data/' + str(OSCid))"
   ]
  },
  {
   "cell_type": "code",
   "execution_count": null,
   "metadata": {
    "collapsed": false
   },
   "outputs": [],
   "source": [
    "outputReturn.head()"
   ]
  },
  {
   "cell_type": "code",
   "execution_count": null,
   "metadata": {
    "collapsed": false
   },
   "outputs": [],
   "source": [
    "outputReturn.pictureName[0][0:8]"
   ]
  },
  {
   "cell_type": "code",
   "execution_count": null,
   "metadata": {
    "collapsed": true
   },
   "outputs": [],
   "source": [
    "#check if directories exists\n"
   ]
  }
 ],
 "metadata": {
  "anaconda-cloud": {},
  "kernelspec": {
   "display_name": "Python [conda root]",
   "language": "python",
   "name": "conda-root-py"
  },
  "language_info": {
   "codemirror_mode": {
    "name": "ipython",
    "version": 2
   },
   "file_extension": ".py",
   "mimetype": "text/x-python",
   "name": "python",
   "nbconvert_exporter": "python",
   "pygments_lexer": "ipython2",
   "version": "2.7.12"
  }
 },
 "nbformat": 4,
 "nbformat_minor": 1
}
