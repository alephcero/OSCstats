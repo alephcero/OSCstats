{
 "cells": [
  {
   "cell_type": "code",
   "execution_count": 1,
   "metadata": {
    "collapsed": false
   },
   "outputs": [],
   "source": [
    "import json\n",
    "import os,sys,inspect\n",
    "currentdir = os.path.dirname(os.path.abspath(inspect.getfile(inspect.currentframe())))\n",
    "parentdir = os.path.dirname(currentdir)\n",
    "sys.path.insert(0,parentdir) \n",
    "\n",
    "import loadOSCdata\n",
    "\n",
    " "
   ]
  },
  {
   "cell_type": "code",
   "execution_count": 2,
   "metadata": {
    "collapsed": false
   },
   "outputs": [],
   "source": [
    "#set the id from OSC\n",
    "oscID=167913\n"
   ]
  },
  {
   "cell_type": "code",
   "execution_count": 3,
   "metadata": {
    "collapsed": false
   },
   "outputs": [
    {
     "data": {
      "text/plain": [
       "0"
      ]
     },
     "execution_count": 3,
     "metadata": {},
     "output_type": "execute_result"
    }
   ],
   "source": [
    "#query the OSC API for that ID\n",
    "query = \"curl 'http://openstreetcam.org/details' -H 'Referer: http://openstreetcam.org/details/\" + str(oscID) + \"/0' -H 'X-Requested-With: XMLHttpRequest' -H 'Connection: keep-alive' --data 'id=\" + str(oscID) + \"&platform=web' --compressed >> osc.json\"\n",
    "os.system(query)\n",
    "\n",
    "#read json file\n",
    "with open('osc.json') as data_file:    \n",
    "    data = json.load(data_file)\n",
    "\n",
    "os.system('rm osc.json')"
   ]
  },
  {
   "cell_type": "code",
   "execution_count": 4,
   "metadata": {
    "collapsed": false
   },
   "outputs": [
    {
     "data": {
      "text/html": [
       "<div>\n",
       "<table border=\"1\" class=\"dataframe\">\n",
       "  <thead>\n",
       "    <tr style=\"text-align: right;\">\n",
       "      <th></th>\n",
       "      <th>timestamp</th>\n",
       "      <th>long</th>\n",
       "      <th>lat</th>\n",
       "      <th>pointIndex</th>\n",
       "      <th>geometry</th>\n",
       "      <th>V</th>\n",
       "    </tr>\n",
       "  </thead>\n",
       "  <tbody>\n",
       "    <tr>\n",
       "      <th>0</th>\n",
       "      <td>2017-04-14 09:35:20.798094</td>\n",
       "      <td>-73.971799</td>\n",
       "      <td>40.643469</td>\n",
       "      <td>49</td>\n",
       "      <td>POINT (-73.97182449 40.64346569000001)</td>\n",
       "      <td>14.698819</td>\n",
       "    </tr>\n",
       "    <tr>\n",
       "      <th>1</th>\n",
       "      <td>2017-04-14 09:35:21.820354</td>\n",
       "      <td>-73.971850</td>\n",
       "      <td>40.643462</td>\n",
       "      <td>250</td>\n",
       "      <td>POINT (-73.971875165 40.643459145)</td>\n",
       "      <td>20.852891</td>\n",
       "    </tr>\n",
       "    <tr>\n",
       "      <th>2</th>\n",
       "      <td>2017-04-14 09:35:22.788859</td>\n",
       "      <td>-73.971901</td>\n",
       "      <td>40.643456</td>\n",
       "      <td>451</td>\n",
       "      <td>POINT (-73.971926485 40.643455275)</td>\n",
       "      <td>24.309918</td>\n",
       "    </tr>\n",
       "    <tr>\n",
       "      <th>3</th>\n",
       "      <td>2017-04-14 09:35:23.821521</td>\n",
       "      <td>-73.971952</td>\n",
       "      <td>40.643454</td>\n",
       "      <td>656</td>\n",
       "      <td>POINT (-73.97197761999999 40.64345409999999)</td>\n",
       "      <td>22.221811</td>\n",
       "    </tr>\n",
       "    <tr>\n",
       "      <th>4</th>\n",
       "      <td>2017-04-14 09:35:24.801281</td>\n",
       "      <td>-73.972003</td>\n",
       "      <td>40.643454</td>\n",
       "      <td>857</td>\n",
       "      <td>POINT (-73.97202526999999 40.643453935)</td>\n",
       "      <td>21.778396</td>\n",
       "    </tr>\n",
       "  </tbody>\n",
       "</table>\n",
       "</div>"
      ],
      "text/plain": [
       "                    timestamp       long        lat  pointIndex  \\\n",
       "0  2017-04-14 09:35:20.798094 -73.971799  40.643469          49   \n",
       "1  2017-04-14 09:35:21.820354 -73.971850  40.643462         250   \n",
       "2  2017-04-14 09:35:22.788859 -73.971901  40.643456         451   \n",
       "3  2017-04-14 09:35:23.821521 -73.971952  40.643454         656   \n",
       "4  2017-04-14 09:35:24.801281 -73.972003  40.643454         857   \n",
       "\n",
       "                                       geometry          V  \n",
       "0        POINT (-73.97182449 40.64346569000001)  14.698819  \n",
       "1            POINT (-73.971875165 40.643459145)  20.852891  \n",
       "2            POINT (-73.971926485 40.643455275)  24.309918  \n",
       "3  POINT (-73.97197761999999 40.64345409999999)  22.221811  \n",
       "4       POINT (-73.97202526999999 40.643453935)  21.778396  "
      ]
     },
     "execution_count": 4,
     "metadata": {},
     "output_type": "execute_result"
    }
   ],
   "source": [
    "#get the url for the file with accelerometer data\n",
    "url='http://openstreetcam.org/'+data['osv']['meta_data_filename']\n",
    "#read the accelerometer data with our function\n",
    "data = loadOSCdata.loadOSCdata(url, X = True, Y = True, Z = True, output = 'csv', outputFile = 'data.csv')\n",
    "data.head()"
   ]
  },
  {
   "cell_type": "code",
   "execution_count": null,
   "metadata": {
    "collapsed": true
   },
   "outputs": [],
   "source": []
  }
 ],
 "metadata": {
  "anaconda-cloud": {},
  "kernelspec": {
   "display_name": "Python [conda root]",
   "language": "python",
   "name": "conda-root-py"
  },
  "language_info": {
   "codemirror_mode": {
    "name": "ipython",
    "version": 2
   },
   "file_extension": ".py",
   "mimetype": "text/x-python",
   "name": "python",
   "nbconvert_exporter": "python",
   "pygments_lexer": "ipython2",
   "version": "2.7.12"
  }
 },
 "nbformat": 4,
 "nbformat_minor": 1
}
