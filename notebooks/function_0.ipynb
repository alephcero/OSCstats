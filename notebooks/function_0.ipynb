{
 "cells": [
  {
   "cell_type": "code",
   "execution_count": null,
   "metadata": {
    "collapsed": true
   },
   "outputs": [],
   "source": [
    "import pandas as pd"
   ]
  },
  {
   "cell_type": "code",
   "execution_count": 10,
   "metadata": {
    "collapsed": true
   },
   "outputs": [],
   "source": [
    "def hi_function():\n",
    "    print 'hi, ready to process your trip data? \\n type yes/no'\n",
    "    check=raw_input()\n",
    "    \n",
    "    control=0\n",
    "    while (control==0):\n",
    "        if check=='no':\n",
    "            print ''\n",
    "            print('ok, than see you soon \\n')\n",
    "            control=1\n",
    "        \n",
    "        if check!='no' and check!='yes':\n",
    "            print 'please, type again'\n",
    "            check=raw_input()\n",
    "        \n",
    "        if check=='yes':\n",
    "            print ''\n",
    "            print 'do you want to type your user id and your trips id manually'\n",
    "            print 'or do you want to upload them as a csv?'\n",
    "            print ''\n",
    "            print 'type manually/csv'\n",
    "            trips_lis=choose_method()\n",
    "            control=1\n",
    "        \n",
    "    return trips_lis"
   ]
  },
  {
   "cell_type": "code",
   "execution_count": 11,
   "metadata": {
    "collapsed": true
   },
   "outputs": [],
   "source": [
    "def choose_method():\n",
    "    method=raw_input()\n",
    "    control=0\n",
    "    \n",
    "    while (control==0):\n",
    "        if method=='csv':\n",
    "        \n",
    "            print ''\n",
    "            print('great')\n",
    "            print ('your data have to be stored in a csv with these two columns')\n",
    "            print ('user_id,trip_id')\n",
    "            print 'now, give me the path to your file'\n",
    "            print 'the path must be a string without apostrophes'\n",
    "\n",
    "            trips=csv_method()\n",
    "            control=1\n",
    "\n",
    "        if method=='manually':\n",
    "            trips = manually()\n",
    "            control=1\n",
    "\n",
    "        if (method!='csv' and method!='manually'):\n",
    "            print 'please, type again'\n",
    "            method=raw_input()\n",
    "        \n",
    "    return trips\n",
    "    "
   ]
  },
  {
   "cell_type": "code",
   "execution_count": null,
   "metadata": {
    "collapsed": true
   },
   "outputs": [],
   "source": [
    "def manually():\n",
    "    print ''\n",
    "    print 'great, lets start'\n",
    "    print 'give me your user_id'\n",
    "    user=raw_input()\n",
    "    user=check_id(user)\n",
    "    values=trip_id() \n",
    "    \n",
    "    userlis=[]\n",
    "    userlis.append(user)\n",
    "    userlis=userlis*len(values)\n",
    "    \n",
    "    trips=pd.DataFrame()\n",
    "    trips['user']=userlis\n",
    "    trips['trip']=values\n",
    "    \n",
    "    \n",
    "    return trips"
   ]
  },
  {
   "cell_type": "code",
   "execution_count": null,
   "metadata": {
    "collapsed": true
   },
   "outputs": [],
   "source": [
    "def check_id(user):\n",
    "    return user"
   ]
  },
  {
   "cell_type": "code",
   "execution_count": 13,
   "metadata": {
    "collapsed": false
   },
   "outputs": [],
   "source": [
    "def trip_id():\n",
    "    trips=[]\n",
    "    control=1\n",
    "    print 'now type your trips'\n",
    "    print 'to stop the insertions, type stop'\n",
    "    k=1\n",
    "    \n",
    "    while (control!='stop'):\n",
    "        print ('trip number ', k)\n",
    "        trip=raw_input()\n",
    "        trips.append(trip)\n",
    "        k=k+1\n",
    "        if trip==0:\n",
    "            print 'yo'\n",
    "        control=trip\n",
    "    \n",
    "    del trips[-1]\n",
    "    \n",
    "    return trips"
   ]
  },
  {
   "cell_type": "code",
   "execution_count": 15,
   "metadata": {
    "collapsed": false
   },
   "outputs": [],
   "source": [
    "def csv_method():\n",
    "    \n",
    "    control=0\n",
    "    \n",
    "    while control==0:\n",
    "        location=raw_input()\n",
    "        try:\n",
    "            trips=pd.read_csv(location)\n",
    "            control=1\n",
    "            \n",
    "        except 'File d does not exist':\n",
    "            print 'type again your path'\n",
    "    \n",
    "    return trips"
   ]
  },
  {
   "cell_type": "code",
   "execution_count": null,
   "metadata": {
    "collapsed": true
   },
   "outputs": [],
   "source": [
    "hi_function()"
   ]
  }
 ],
 "metadata": {
  "kernelspec": {
   "display_name": "Python 2",
   "language": "python",
   "name": "python2"
  },
  "language_info": {
   "codemirror_mode": {
    "name": "ipython",
    "version": 2
   },
   "file_extension": ".py",
   "mimetype": "text/x-python",
   "name": "python",
   "nbconvert_exporter": "python",
   "pygments_lexer": "ipython2",
   "version": "2.7.13"
  }
 },
 "nbformat": 4,
 "nbformat_minor": 2
}
