{
 "cells": [
  {
   "cell_type": "code",
   "execution_count": null,
   "metadata": {
    "collapsed": true
   },
   "outputs": [],
   "source": [
    "def closestBikelane(point,setOfBikelanes):\n",
    "    '''\n",
    "    This functions takes a Shapely Point and\n",
    "    a set of Bikelanes (Shapely Linestring)\n",
    "    and returns the closest bikelane\n",
    "    '''\n",
    "    \n",
    "    #calculate distance from the point to\n",
    "    #every linestring\n",
    "    #and return the closest\n",
    "    \n",
    "def findCensusTract(point,censusTracts, boros):\n",
    "    '''\n",
    "    This functions takes a Shapely Point\n",
    "    a shapefile of boros\n",
    "    a shapefile of census tracts\n",
    "    and returns the census tract id that contains\n",
    "    '''\n",
    "    \n",
    "    #intercept first with boro\n",
    "    #intercet with ct within that boro\n",
    "    #spatial join?\n",
    "    \n",
    "    \n",
    "def wrapper(OSCid):\n",
    "    '''\n",
    "    This function takes a point dataset (accelerometer or photos)\n",
    "    \n",
    "    '''\n",
    "    pointDataAcc = queryOSCapi(OSCid, dataType = 'accelerometer')\n",
    "    pointDataPhoto = queryOSCapi(OSCid, dataType = 'photos')\n",
    "    \n",
    "    #for each pointData\n",
    "    \n",
    "        #store the vector of geometries in pointGeometries\n",
    "        #for each point geometry\n",
    "            #run findCensusTract()\n",
    "            #store each point CT in a list\n",
    "\n",
    "            #run closestBikelane() on each point and CT\n",
    "            #store closest Bikelane id and linegeometry in lists\n",
    "\n",
    "            #interpolate(point,closestBikelane)\n",
    "            #store newpoints in list\n",
    "        \n",
    "    #save as colum for each data point newPoint, idBikelane, \n"
   ]
  }
 ],
 "metadata": {
  "anaconda-cloud": {},
  "kernelspec": {
   "display_name": "Python [conda root]",
   "language": "python",
   "name": "conda-root-py"
  },
  "language_info": {
   "codemirror_mode": {
    "name": "ipython",
    "version": 2
   },
   "file_extension": ".py",
   "mimetype": "text/x-python",
   "name": "python",
   "nbconvert_exporter": "python",
   "pygments_lexer": "ipython2",
   "version": "2.7.12"
  }
 },
 "nbformat": 4,
 "nbformat_minor": 1
}
