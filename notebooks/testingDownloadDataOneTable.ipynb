{
 "cells": [
  {
   "cell_type": "code",
   "execution_count": 1,
   "metadata": {
    "collapsed": true
   },
   "outputs": [],
   "source": [
    "import os,sys,inspect\n",
    "currentdir = os.path.dirname(os.path.abspath(inspect.getfile(inspect.currentframe())))\n",
    "parentdir = os.path.dirname(currentdir)\n",
    "sys.path.insert(0,parentdir) \n",
    "import loadOSCdata\n",
    "import pandas as pd\n",
    "import numpy as np\n",
    "import geopandas as gpd\n",
    "import matplotlib.pyplot as plt\n",
    "%matplotlib inline"
   ]
  },
  {
   "cell_type": "code",
   "execution_count": 2,
   "metadata": {
    "collapsed": false
   },
   "outputs": [
    {
     "data": {
      "text/html": [
       "<div>\n",
       "<table border=\"1\" class=\"dataframe\">\n",
       "  <thead>\n",
       "    <tr style=\"text-align: right;\">\n",
       "      <th></th>\n",
       "      <th>timestamp</th>\n",
       "      <th>photoIndex</th>\n",
       "      <th>V</th>\n",
       "      <th>geometry</th>\n",
       "      <th>pictureUrl</th>\n",
       "      <th>cvLabel</th>\n",
       "    </tr>\n",
       "  </thead>\n",
       "  <tbody>\n",
       "    <tr>\n",
       "      <th>1526</th>\n",
       "      <td>1.496843e+09</td>\n",
       "      <td>0.0</td>\n",
       "      <td>8.986341</td>\n",
       "      <td>POINT (-73.97175258999999 40.643504445)</td>\n",
       "      <td>http://storage4.openstreetcam.org/files/photo/...</td>\n",
       "      <td>good</td>\n",
       "    </tr>\n",
       "    <tr>\n",
       "      <th>2624</th>\n",
       "      <td>1.496843e+09</td>\n",
       "      <td>1.0</td>\n",
       "      <td>15.928353</td>\n",
       "      <td>POINT (-73.97184097499999 40.64349325000001)</td>\n",
       "      <td>http://storage4.openstreetcam.org/files/photo/...</td>\n",
       "      <td>Error</td>\n",
       "    </tr>\n",
       "    <tr>\n",
       "      <th>3651</th>\n",
       "      <td>1.496843e+09</td>\n",
       "      <td>2.0</td>\n",
       "      <td>16.058836</td>\n",
       "      <td>POINT (-73.97188192499999 40.643562725)</td>\n",
       "      <td>http://storage4.openstreetcam.org/files/photo/...</td>\n",
       "      <td>Error</td>\n",
       "    </tr>\n",
       "    <tr>\n",
       "      <th>4150</th>\n",
       "      <td>1.496843e+09</td>\n",
       "      <td>3.0</td>\n",
       "      <td>19.411384</td>\n",
       "      <td>POINT (-73.97200721999999 40.64357914)</td>\n",
       "      <td>http://storage4.openstreetcam.org/files/photo/...</td>\n",
       "      <td>Error</td>\n",
       "    </tr>\n",
       "    <tr>\n",
       "      <th>4501</th>\n",
       "      <td>1.496843e+09</td>\n",
       "      <td>4.0</td>\n",
       "      <td>23.126944</td>\n",
       "      <td>POINT (-73.972105425 40.64358239)</td>\n",
       "      <td>http://storage4.openstreetcam.org/files/photo/...</td>\n",
       "      <td>bad</td>\n",
       "    </tr>\n",
       "  </tbody>\n",
       "</table>\n",
       "</div>"
      ],
      "text/plain": [
       "         timestamp  photoIndex          V  \\\n",
       "1526  1.496843e+09         0.0   8.986341   \n",
       "2624  1.496843e+09         1.0  15.928353   \n",
       "3651  1.496843e+09         2.0  16.058836   \n",
       "4150  1.496843e+09         3.0  19.411384   \n",
       "4501  1.496843e+09         4.0  23.126944   \n",
       "\n",
       "                                          geometry  \\\n",
       "1526       POINT (-73.97175258999999 40.643504445)   \n",
       "2624  POINT (-73.97184097499999 40.64349325000001)   \n",
       "3651       POINT (-73.97188192499999 40.643562725)   \n",
       "4150        POINT (-73.97200721999999 40.64357914)   \n",
       "4501             POINT (-73.972105425 40.64358239)   \n",
       "\n",
       "                                             pictureUrl cvLabel  \n",
       "1526  http://storage4.openstreetcam.org/files/photo/...    good  \n",
       "2624  http://storage4.openstreetcam.org/files/photo/...   Error  \n",
       "3651  http://storage4.openstreetcam.org/files/photo/...   Error  \n",
       "4150  http://storage4.openstreetcam.org/files/photo/...   Error  \n",
       "4501  http://storage4.openstreetcam.org/files/photo/...     bad  "
      ]
     },
     "execution_count": 2,
     "metadata": {},
     "output_type": "execute_result"
    }
   ],
   "source": [
    "data = loadOSCdata.downloadData(OSCid=464547, X = True, Y = True, Z = True, output = 'csv', outputFile = 'data.csv')\n",
    "data.head()"
   ]
  },
  {
   "cell_type": "code",
   "execution_count": 3,
   "metadata": {
    "collapsed": false
   },
   "outputs": [
    {
     "data": {
      "text/plain": [
       "Error         478\n",
       "good          228\n",
       "acceptable    152\n",
       "bad            56\n",
       "Name: cvLabel, dtype: int64"
      ]
     },
     "execution_count": 3,
     "metadata": {},
     "output_type": "execute_result"
    }
   ],
   "source": [
    "data.cvLabel.value_counts()"
   ]
  },
  {
   "cell_type": "code",
   "execution_count": null,
   "metadata": {
    "collapsed": true
   },
   "outputs": [],
   "source": []
  }
 ],
 "metadata": {
  "anaconda-cloud": {},
  "kernelspec": {
   "display_name": "Python [conda root]",
   "language": "python",
   "name": "conda-root-py"
  },
  "language_info": {
   "codemirror_mode": {
    "name": "ipython",
    "version": 2
   },
   "file_extension": ".py",
   "mimetype": "text/x-python",
   "name": "python",
   "nbconvert_exporter": "python",
   "pygments_lexer": "ipython2",
   "version": "2.7.12"
  }
 },
 "nbformat": 4,
 "nbformat_minor": 1
}
