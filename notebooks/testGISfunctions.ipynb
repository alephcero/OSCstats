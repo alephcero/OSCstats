{
 "cells": [
  {
   "cell_type": "code",
   "execution_count": 1,
   "metadata": {
    "collapsed": true
   },
   "outputs": [],
   "source": [
    "import os,sys,inspect\n",
    "currentdir = os.path.dirname(os.path.abspath(inspect.getfile(inspect.currentframe())))\n",
    "parentdir = os.path.dirname(currentdir)\n",
    "sys.path.insert(0,parentdir) \n",
    "import loadOSCdata\n",
    "import pandas as pd\n",
    "import numpy as np\n",
    "import geopandas as gpd\n",
    "import matplotlib.pyplot as plt\n",
    "%matplotlib inline"
   ]
  },
  {
   "cell_type": "code",
   "execution_count": 2,
   "metadata": {
    "collapsed": true
   },
   "outputs": [],
   "source": [
    "idWork=219598"
   ]
  },
  {
   "cell_type": "code",
   "execution_count": 3,
   "metadata": {
    "collapsed": false
   },
   "outputs": [
    {
     "data": {
      "text/html": [
       "<div>\n",
       "<table border=\"1\" class=\"dataframe\">\n",
       "  <thead>\n",
       "    <tr style=\"text-align: right;\">\n",
       "      <th></th>\n",
       "      <th>timestamp</th>\n",
       "      <th>long</th>\n",
       "      <th>lat</th>\n",
       "      <th>pointIndex</th>\n",
       "      <th>geometry</th>\n",
       "      <th>V</th>\n",
       "      <th>tripID</th>\n",
       "    </tr>\n",
       "  </thead>\n",
       "  <tbody>\n",
       "    <tr>\n",
       "      <th>0</th>\n",
       "      <td>2017-05-15 22:28:21.171333</td>\n",
       "      <td>-74.000973</td>\n",
       "      <td>40.695163</td>\n",
       "      <td>136</td>\n",
       "      <td>POINT (-74.00097359999999 40.69516439)</td>\n",
       "      <td>1.134069</td>\n",
       "      <td>219598</td>\n",
       "    </tr>\n",
       "    <tr>\n",
       "      <th>1</th>\n",
       "      <td>2017-05-15 22:28:22.183394</td>\n",
       "      <td>-74.000974</td>\n",
       "      <td>40.695165</td>\n",
       "      <td>341</td>\n",
       "      <td>POINT (-74.000974575 40.69516552)</td>\n",
       "      <td>0.780236</td>\n",
       "      <td>219598</td>\n",
       "    </tr>\n",
       "    <tr>\n",
       "      <th>2</th>\n",
       "      <td>2017-05-15 22:28:23.209512</td>\n",
       "      <td>-74.000975</td>\n",
       "      <td>40.695166</td>\n",
       "      <td>546</td>\n",
       "      <td>POINT (-74.00097883000001 40.695164275)</td>\n",
       "      <td>0.840056</td>\n",
       "      <td>219598</td>\n",
       "    </tr>\n",
       "    <tr>\n",
       "      <th>3</th>\n",
       "      <td>2017-05-15 22:28:24.210884</td>\n",
       "      <td>-74.000982</td>\n",
       "      <td>40.695163</td>\n",
       "      <td>825</td>\n",
       "      <td>POINT (-74.00098446999999 40.69516133)</td>\n",
       "      <td>1.034515</td>\n",
       "      <td>219598</td>\n",
       "    </tr>\n",
       "    <tr>\n",
       "      <th>4</th>\n",
       "      <td>2017-05-15 22:28:25.182545</td>\n",
       "      <td>-74.000986</td>\n",
       "      <td>40.695160</td>\n",
       "      <td>1216</td>\n",
       "      <td>POINT (-74.000988475 40.695159305)</td>\n",
       "      <td>1.447413</td>\n",
       "      <td>219598</td>\n",
       "    </tr>\n",
       "  </tbody>\n",
       "</table>\n",
       "</div>"
      ],
      "text/plain": [
       "                    timestamp       long        lat  pointIndex  \\\n",
       "0  2017-05-15 22:28:21.171333 -74.000973  40.695163         136   \n",
       "1  2017-05-15 22:28:22.183394 -74.000974  40.695165         341   \n",
       "2  2017-05-15 22:28:23.209512 -74.000975  40.695166         546   \n",
       "3  2017-05-15 22:28:24.210884 -74.000982  40.695163         825   \n",
       "4  2017-05-15 22:28:25.182545 -74.000986  40.695160        1216   \n",
       "\n",
       "                                  geometry         V  tripID  \n",
       "0   POINT (-74.00097359999999 40.69516439)  1.134069  219598  \n",
       "1        POINT (-74.000974575 40.69516552)  0.780236  219598  \n",
       "2  POINT (-74.00097883000001 40.695164275)  0.840056  219598  \n",
       "3   POINT (-74.00098446999999 40.69516133)  1.034515  219598  \n",
       "4       POINT (-74.000988475 40.695159305)  1.447413  219598  "
      ]
     },
     "execution_count": 3,
     "metadata": {},
     "output_type": "execute_result"
    }
   ],
   "source": [
    "acce = loadOSCdata.queryOSCapi(OSCid = idWork, output = 'shp', outputFile = 'acce',dataType='accelerometer')\n",
    "acce.head()"
   ]
  },
  {
   "cell_type": "code",
   "execution_count": 4,
   "metadata": {
    "collapsed": true
   },
   "outputs": [],
   "source": [
    "bufers = gpd.read_file('../data/nyc-bike-routes/nyc_bike_30mbuffer_epsg=3857.shp')\n",
    "bikelanes=gpd.read_file('../data/nyc-bike-routes/nyc_bike_routes_2017.shp')\n",
    "\n",
    "#bikelanes = bikelanes.to_crs(epsg=3857)\n",
    "\n",
    "\n",
    "#bufers['line'] = bikelanes.geometry\n"
   ]
  },
  {
   "cell_type": "code",
   "execution_count": 5,
   "metadata": {
    "collapsed": false
   },
   "outputs": [],
   "source": [
    "def snapToBikelane(bikelaneDF,bufersDF,pointsDF):\n",
    "    '''\n",
    "    this function takes:\n",
    "    - a point data set (accelerometer or photos)\n",
    "    - a bikelane buffer geopandas\n",
    "    - a bikelane geopandas\n",
    "    and returns a new geopandas with :\n",
    "    the bikelane ID where the point belongs to  \n",
    "    the bikeline in geometry\n",
    "    the new point snap to line in geomtry \n",
    "    '''\n",
    "    #change projection for points, bike shp already in 3857\n",
    "    pointsDF = pointsDF.to_crs(epsg=3857)\n",
    "    bufersDF = bufersDF.to_crs(epsg=3857)\n",
    "    bikelaneDF = bikelaneDF.to_crs(epsg=3857)\n",
    "\n",
    "    #give the line of the bikelane to the bufersDF\n",
    "    bufersDF['line'] = bikelaneDF.geometry\n",
    "    \n",
    "    #joint points with buffer\n",
    "    joinData = gpd.sjoin(pointsDF, bufersDF, how=\"left\", op='intersects')\n",
    "    \n",
    "    #get unique pointID TIMES MAY CHANGE IN THE NAME WARNING\n",
    "    allThePoints = pointsDF.pointIndex.unique()\n",
    "    \n",
    "    #create empty lists where we store new data\n",
    "    line = []\n",
    "    bikelanesID = []\n",
    "    \n",
    "    #get point ID duplicated\n",
    "    duplicates = joinData.pointIndex[joinData.pointIndex.duplicated()].unique()\n",
    "\n",
    "    \n",
    "    for i in range(len(allThePoints)):\n",
    "        #check if the pointIndex is unique:\n",
    "        if allThePoints[i] not in duplicates:\n",
    "            #append line from joint to that index\n",
    "            line.append(joinData.line.loc[joinData.pointIndex == allThePoints[i]].iloc[0])\n",
    "            bikelanesID.append(joinData.ID_ORIGINA.loc[joinData.pointIndex == allThePoints[i]].iloc[0])\n",
    "\n",
    "        else:\n",
    "            #if not, append from the previous id\n",
    "            line.append(joinData.line.loc[joinData.pointIndex == allThePoints[i-1]].iloc[0])\n",
    "            bikelanesID.append(joinData.ID_ORIGINA.loc[joinData.pointIndex == allThePoints[i-1]].iloc[0])\n",
    "    \n",
    "    pointsDF['line'] = line\n",
    "    pointsDF['bikelanesID'] = bikelanesID\n",
    "    \n",
    "    \n",
    "    pointOnLine = []\n",
    "\n",
    "    for i in range(pointsDF.shape[0]):\n",
    "        try:\n",
    "            newPoint = pointsDF.line.loc[i].interpolate(pointsDF.line.loc[i].project(pointsDF.geometry.loc[i]))\n",
    "\n",
    "        except AttributeError:\n",
    "            newPoint = np.nan\n",
    "\n",
    "        pointOnLine.append(newPoint)\n",
    "\n",
    "    pointsDF['pointOnLine'] = pointOnLine   \n",
    "    \n",
    "    return pointsDF"
   ]
  },
  {
   "cell_type": "code",
   "execution_count": 6,
   "metadata": {
    "collapsed": false
   },
   "outputs": [],
   "source": [
    "pointsDF = snapToBikelane(bikelaneDF = bikelanes, bufersDF = bufers, pointsDF = acce)\n"
   ]
  },
  {
   "cell_type": "code",
   "execution_count": 7,
   "metadata": {
    "collapsed": false
   },
   "outputs": [
    {
     "data": {
      "text/html": [
       "<div>\n",
       "<table border=\"1\" class=\"dataframe\">\n",
       "  <thead>\n",
       "    <tr style=\"text-align: right;\">\n",
       "      <th></th>\n",
       "      <th>timestamp</th>\n",
       "      <th>long</th>\n",
       "      <th>lat</th>\n",
       "      <th>pointIndex</th>\n",
       "      <th>geometry</th>\n",
       "      <th>V</th>\n",
       "      <th>tripID</th>\n",
       "      <th>line</th>\n",
       "      <th>bikelanesID</th>\n",
       "      <th>pointOnLine</th>\n",
       "    </tr>\n",
       "  </thead>\n",
       "  <tbody>\n",
       "    <tr>\n",
       "      <th>0</th>\n",
       "      <td>2017-05-15 22:28:21.171333</td>\n",
       "      <td>-74.000973</td>\n",
       "      <td>40.695163</td>\n",
       "      <td>136</td>\n",
       "      <td>POINT (-8237750.69935848 4967481.926590688)</td>\n",
       "      <td>1.134069</td>\n",
       "      <td>219598</td>\n",
       "      <td>NaN</td>\n",
       "      <td>NaN</td>\n",
       "      <td>NaN</td>\n",
       "    </tr>\n",
       "    <tr>\n",
       "      <th>1</th>\n",
       "      <td>2017-05-15 22:28:22.183394</td>\n",
       "      <td>-74.000974</td>\n",
       "      <td>40.695165</td>\n",
       "      <td>341</td>\n",
       "      <td>POINT (-8237750.807894984 4967482.092500463)</td>\n",
       "      <td>0.780236</td>\n",
       "      <td>219598</td>\n",
       "      <td>NaN</td>\n",
       "      <td>NaN</td>\n",
       "      <td>NaN</td>\n",
       "    </tr>\n",
       "    <tr>\n",
       "      <th>2</th>\n",
       "      <td>2017-05-15 22:28:23.209512</td>\n",
       "      <td>-74.000975</td>\n",
       "      <td>40.695166</td>\n",
       "      <td>546</td>\n",
       "      <td>POINT (-8237751.281559418 4967481.909706064)</td>\n",
       "      <td>0.840056</td>\n",
       "      <td>219598</td>\n",
       "      <td>NaN</td>\n",
       "      <td>NaN</td>\n",
       "      <td>NaN</td>\n",
       "    </tr>\n",
       "    <tr>\n",
       "      <th>3</th>\n",
       "      <td>2017-05-15 22:28:24.210884</td>\n",
       "      <td>-74.000982</td>\n",
       "      <td>40.695163</td>\n",
       "      <td>825</td>\n",
       "      <td>POINT (-8237751.909401344 4967481.47731291)</td>\n",
       "      <td>1.034515</td>\n",
       "      <td>219598</td>\n",
       "      <td>NaN</td>\n",
       "      <td>NaN</td>\n",
       "      <td>NaN</td>\n",
       "    </tr>\n",
       "    <tr>\n",
       "      <th>4</th>\n",
       "      <td>2017-05-15 22:28:25.182545</td>\n",
       "      <td>-74.000986</td>\n",
       "      <td>40.695160</td>\n",
       "      <td>1216</td>\n",
       "      <td>POINT (-8237752.355235906 4967481.179996749)</td>\n",
       "      <td>1.447413</td>\n",
       "      <td>219598</td>\n",
       "      <td>NaN</td>\n",
       "      <td>NaN</td>\n",
       "      <td>NaN</td>\n",
       "    </tr>\n",
       "  </tbody>\n",
       "</table>\n",
       "</div>"
      ],
      "text/plain": [
       "                    timestamp       long        lat  pointIndex  \\\n",
       "0  2017-05-15 22:28:21.171333 -74.000973  40.695163         136   \n",
       "1  2017-05-15 22:28:22.183394 -74.000974  40.695165         341   \n",
       "2  2017-05-15 22:28:23.209512 -74.000975  40.695166         546   \n",
       "3  2017-05-15 22:28:24.210884 -74.000982  40.695163         825   \n",
       "4  2017-05-15 22:28:25.182545 -74.000986  40.695160        1216   \n",
       "\n",
       "                                       geometry         V  tripID line  \\\n",
       "0   POINT (-8237750.69935848 4967481.926590688)  1.134069  219598  NaN   \n",
       "1  POINT (-8237750.807894984 4967482.092500463)  0.780236  219598  NaN   \n",
       "2  POINT (-8237751.281559418 4967481.909706064)  0.840056  219598  NaN   \n",
       "3   POINT (-8237751.909401344 4967481.47731291)  1.034515  219598  NaN   \n",
       "4  POINT (-8237752.355235906 4967481.179996749)  1.447413  219598  NaN   \n",
       "\n",
       "   bikelanesID pointOnLine  \n",
       "0          NaN         NaN  \n",
       "1          NaN         NaN  \n",
       "2          NaN         NaN  \n",
       "3          NaN         NaN  \n",
       "4          NaN         NaN  "
      ]
     },
     "execution_count": 7,
     "metadata": {},
     "output_type": "execute_result"
    }
   ],
   "source": [
    "pointsDF.head(5)"
   ]
  },
  {
   "cell_type": "markdown",
   "metadata": {},
   "source": [
    "## Export to test\n"
   ]
  },
  {
   "cell_type": "code",
   "execution_count": 8,
   "metadata": {
    "collapsed": false
   },
   "outputs": [],
   "source": [
    "point = pointsDF.loc[:,['timestamp',\n",
    " 'long',\n",
    " 'lat',\n",
    " 'pointIndex',\n",
    " 'geometry',\n",
    " 'V']]\n",
    "\n",
    "line = pointsDF.loc[:,['timestamp',\n",
    " 'long',\n",
    " 'lat',\n",
    " 'pointIndex',\n",
    " 'V',\n",
    " 'tripID',\n",
    " 'line',\n",
    " 'bikelanesID']]\n",
    "\n",
    "line.columns = ['timestamp',\n",
    " 'long',\n",
    " 'lat',\n",
    " 'pointIndex',\n",
    " 'V',\n",
    " 'tripID',\n",
    " 'geometry',\n",
    " 'bikelanesID']\n",
    "\n",
    "newPoint = pointsDF.loc[:,['timestamp',\n",
    " 'long',\n",
    " 'lat',\n",
    " 'pointIndex',\n",
    " 'V',\n",
    " 'tripID',\n",
    " 'bikelanesID',\n",
    " 'pointOnLine']]\n",
    "\n",
    "newPoint.columns = ['timestamp',\n",
    " 'long',\n",
    " 'lat',\n",
    " 'pointIndex',\n",
    " 'V',\n",
    " 'tripID',\n",
    " 'bikelanesID',\n",
    " 'geometry']"
   ]
  },
  {
   "cell_type": "code",
   "execution_count": 9,
   "metadata": {
    "collapsed": false
   },
   "outputs": [],
   "source": [
    "point = point.to_crs(epsg=4326)\n",
    "point.to_file('point')\n",
    "line = line.dropna().to_crs(epsg=4326)\n",
    "line.to_file('line')\n",
    "newPoint = newPoint.dropna().to_crs(epsg=4326)\n",
    "newPoint.to_file('newPoint')"
   ]
  },
  {
   "cell_type": "code",
   "execution_count": null,
   "metadata": {
    "collapsed": true
   },
   "outputs": [],
   "source": []
  }
 ],
 "metadata": {
  "anaconda-cloud": {},
  "kernelspec": {
   "display_name": "Python [conda root]",
   "language": "python",
   "name": "conda-root-py"
  },
  "language_info": {
   "codemirror_mode": {
    "name": "ipython",
    "version": 2
   },
   "file_extension": ".py",
   "mimetype": "text/x-python",
   "name": "python",
   "nbconvert_exporter": "python",
   "pygments_lexer": "ipython2",
   "version": "2.7.12"
  }
 },
 "nbformat": 4,
 "nbformat_minor": 1
}
