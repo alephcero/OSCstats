{
 "cells": [
  {
   "cell_type": "code",
   "execution_count": 1,
   "metadata": {
    "collapsed": false
   },
   "outputs": [],
   "source": [
    "import json\n",
    "import os,sys,inspect\n",
    "currentdir = os.path.dirname(os.path.abspath(inspect.getfile(inspect.currentframe())))\n",
    "parentdir = os.path.dirname(currentdir)\n",
    "sys.path.insert(0,parentdir) \n",
    "import pandas as pd\n",
    "import numpy as np\n",
    "import loadOSCdata"
   ]
  },
  {
   "cell_type": "code",
   "execution_count": 2,
   "metadata": {
    "collapsed": true
   },
   "outputs": [],
   "source": [
    "#set the id from OSC\n",
    "idNotWork = 292590\n",
    "idWork=219598\n"
   ]
  },
  {
   "cell_type": "code",
   "execution_count": null,
   "metadata": {
    "collapsed": false
   },
   "outputs": [],
   "source": [
    "\n",
    "data = loadOSCdata.getOSCjson(idWork)\n",
    "totalPhotos = len(data['osv']['photos'])\n",
    "\n",
    "\n",
    "pictureName = [data['osv']['photos'][i]['name'] for i in range(totalPhotos)]\n",
    "quality = np.repeat(np.nan,totalPhotos)\n",
    "latitude = [data['osv']['photos'][i]['lat'] for i in range(totalPhotos)]\n",
    "longitude = [data['osv']['photos'][i]['lng'] for i in range(totalPhotos)]\n",
    "\n",
    "finalData = pd.DataFrame({'pictureName':pictureName,\n",
    "                         'quality':quality,\n",
    "                         'latitude':latitude,\n",
    "                         'longitude':longitude})"
   ]
  },
  {
   "cell_type": "code",
   "execution_count": 3,
   "metadata": {
    "collapsed": false
   },
   "outputs": [
    {
     "data": {
      "text/html": [
       "<div>\n",
       "<table border=\"1\" class=\"dataframe\">\n",
       "  <thead>\n",
       "    <tr style=\"text-align: right;\">\n",
       "      <th></th>\n",
       "      <th>latitude</th>\n",
       "      <th>longitude</th>\n",
       "      <th>pictureName</th>\n",
       "      <th>quality</th>\n",
       "    </tr>\n",
       "  </thead>\n",
       "  <tbody>\n",
       "    <tr>\n",
       "      <th>0</th>\n",
       "      <td>40.695150</td>\n",
       "      <td>-74.000937</td>\n",
       "      <td>storage3/files/photo/2017/5/16/proc/219598_cdc...</td>\n",
       "      <td>NaN</td>\n",
       "    </tr>\n",
       "    <tr>\n",
       "      <th>1</th>\n",
       "      <td>40.695116</td>\n",
       "      <td>-74.000826</td>\n",
       "      <td>storage3/files/photo/2017/5/16/proc/219598_f3c...</td>\n",
       "      <td>NaN</td>\n",
       "    </tr>\n",
       "    <tr>\n",
       "      <th>2</th>\n",
       "      <td>40.695085</td>\n",
       "      <td>-74.000754</td>\n",
       "      <td>storage3/files/photo/2017/5/16/proc/219598_156...</td>\n",
       "      <td>NaN</td>\n",
       "    </tr>\n",
       "    <tr>\n",
       "      <th>3</th>\n",
       "      <td>40.695051</td>\n",
       "      <td>-74.000639</td>\n",
       "      <td>storage3/files/photo/2017/5/16/proc/219598_799...</td>\n",
       "      <td>NaN</td>\n",
       "    </tr>\n",
       "    <tr>\n",
       "      <th>4</th>\n",
       "      <td>40.695029</td>\n",
       "      <td>-74.000569</td>\n",
       "      <td>storage3/files/photo/2017/5/16/proc/219598_d00...</td>\n",
       "      <td>NaN</td>\n",
       "    </tr>\n",
       "  </tbody>\n",
       "</table>\n",
       "</div>"
      ],
      "text/plain": [
       "    latitude   longitude                                        pictureName  \\\n",
       "0  40.695150  -74.000937  storage3/files/photo/2017/5/16/proc/219598_cdc...   \n",
       "1  40.695116  -74.000826  storage3/files/photo/2017/5/16/proc/219598_f3c...   \n",
       "2  40.695085  -74.000754  storage3/files/photo/2017/5/16/proc/219598_156...   \n",
       "3  40.695051  -74.000639  storage3/files/photo/2017/5/16/proc/219598_799...   \n",
       "4  40.695029  -74.000569  storage3/files/photo/2017/5/16/proc/219598_d00...   \n",
       "\n",
       "   quality  \n",
       "0      NaN  \n",
       "1      NaN  \n",
       "2      NaN  \n",
       "3      NaN  \n",
       "4      NaN  "
      ]
     },
     "execution_count": 3,
     "metadata": {},
     "output_type": "execute_result"
    }
   ],
   "source": [
    "data = loadOSCdata.queryOSCapi(OSCid = idWork,\n",
    "                               X = True, Y = True, Z = True,\n",
    "                               output = 'csv', outputFile = 'data.csv',\n",
    "                              dataType = 'photos')\n",
    "data.head()"
   ]
  },
  {
   "cell_type": "code",
   "execution_count": null,
   "metadata": {
    "collapsed": false
   },
   "outputs": [],
   "source": [
    "data"
   ]
  },
  {
   "cell_type": "code",
   "execution_count": null,
   "metadata": {
    "collapsed": true
   },
   "outputs": [],
   "source": []
  }
 ],
 "metadata": {
  "anaconda-cloud": {},
  "kernelspec": {
   "display_name": "Python [conda root]",
   "language": "python",
   "name": "conda-root-py"
  },
  "language_info": {
   "codemirror_mode": {
    "name": "ipython",
    "version": 2
   },
   "file_extension": ".py",
   "mimetype": "text/x-python",
   "name": "python",
   "nbconvert_exporter": "python",
   "pygments_lexer": "ipython2",
   "version": "2.7.12"
  }
 },
 "nbformat": 4,
 "nbformat_minor": 1
}
