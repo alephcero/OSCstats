{
 "cells": [
  {
   "cell_type": "code",
   "execution_count": 1,
   "metadata": {
    "collapsed": true
   },
   "outputs": [],
   "source": [
    "import pandas as pd\n",
    "import geopandas as gpd\n",
    "import datetime\n",
    "import numpy as np\n",
    "from shapely.geometry import Point, LineString\n",
    "import shapely.wkt"
   ]
  },
  {
   "cell_type": "code",
   "execution_count": 2,
   "metadata": {
    "collapsed": true
   },
   "outputs": [],
   "source": [
    "def loadOSCdata(textfile):\n",
    "    '''\n",
    "    This function takes a text file from OSC in the phone\n",
    "    and return a poliline shape file with the final vector\n",
    "    '''\n",
    "    #read original data from file within track.txt.gz used by OSC to store sensor data\n",
    "    data = pd.read_csv(textfile,sep=';',\n",
    "                   skiprows=[0],\n",
    "                   skipfooter=1,\n",
    "                   usecols=[0,1,2,3,4,5,9,10,11,16,17,18],\n",
    "                   header=None,\n",
    "                   engine = 'python')\n",
    "\n",
    "    #naming of columns \n",
    "    data.columns = ['timestamp','long','lat','elevation','horizontal_accu',\n",
    "         'GPSspeed','accelerationX','accelerationY','accelerationZ',\n",
    "         'gravityX','gravityY','gravityZ'] \n",
    "    \n",
    "    #conversion into timestamp\n",
    "    dates = []\n",
    "    for i in range(data.shape[0]):\n",
    "        try:\n",
    "            dates.append(datetime.datetime.fromtimestamp(data['timestamp'].iloc[i]))\n",
    "        except :\n",
    "            print 'Error with row:', i\n",
    "    data['timestamp'] = dates        \n",
    "    \n",
    "    #remove all empty rows except timestamp\n",
    "    emtpy = data.iloc[:,1:].isnull().sum(axis=1) == data.shape[1]-1\n",
    "    data = data.loc[~emtpy,:]\n",
    "    data.index=range(data.shape[0])\n",
    "    \n",
    "    data = data.loc[:,['timestamp','long','lat','accelerationX','accelerationY','accelerationZ']]\n",
    "    data.dropna(axis=0,how='all',subset = ['long','lat','accelerationX','accelerationY','accelerationZ'],inplace=True)\n",
    "    \n",
    "    #create the geography\n",
    "    gpsDataPoints =  data.loc[~ (data['long'].isnull()),['timestamp','long','lat']]\n",
    "    gpsDataPoints['pointIndex'] = gpsDataPoints.index\n",
    "    \n",
    "    geometry = []\n",
    "    for i in range(len(gpsDataPoints.index)):\n",
    "        if i == (len(gpsDataPoints.index)-1):\n",
    "            line = np.nan\n",
    "        else:\n",
    "            #get start and end points for each line\n",
    "            startPoint = Point(gpsDataPoints['long'].loc[gpsDataPoints.index[i]], gpsDataPoints['lat'].loc[gpsDataPoints.index[i]])\n",
    "            endPoint = Point(gpsDataPoints['long'].loc[gpsDataPoints.index[i+1]], gpsDataPoints['lat'].loc[gpsDataPoints.index[i+1]])\n",
    "            #convert to shapely wkt\n",
    "            line = LineString([startPoint,endPoint]).wkt\n",
    "            geometry.append(shapely.wkt.loads(line))\n",
    "    \n",
    "    gpsDataPoints = gpsDataPoints.iloc[:-1]\n",
    "    crs = {'init': 'epsg:4326'}\n",
    "    gpsDataPoints = gpd.GeoDataFrame(gpsDataPoints, crs=crs, geometry=geometry)\n",
    "    \n",
    "    #Asign to data the index of the points with GPS data\n",
    "    data.drop(['timestamp'],axis=1,inplace=True)\n",
    "    data = data.merge(gpsDataPoints.drop(['timestamp','geometry'],axis=1),how='left')\n",
    "    data['pointIndex'] = data['pointIndex'].fillna(method='ffill')\n",
    "    \n",
    "    #shift data lag 1 to take the vector of the difference in axis XYZ\n",
    "    dataShifted = data.shift(1)\n",
    "    dataShifted.drop(['long','lat','pointIndex'],axis=1,inplace=True)\n",
    "    dataShifted.columns = ['accelerationXShift','accelerationYShift','accelerationZShift']\n",
    "    \n",
    "    #concatenate datasets\n",
    "    data = pd.concat([data,dataShifted],axis=1)\n",
    "    data.drop(['long','lat'],axis=1,inplace=True)\n",
    "    data.dropna(axis=0,how='any',inplace=True)\n",
    "    \n",
    "    #compute vector\n",
    "    data['V'] = (data.accelerationX-data.accelerationXShift) ** 2 + \\\n",
    "    (data.accelerationY-data.accelerationYShift) ** 2 + \\\n",
    "    (data.accelerationZ-data.accelerationZShift) ** 2 \n",
    "    \n",
    "    #get the sum of every lag BY line defined by the starting point (with GPS data)\n",
    "    vectorInformation = data.loc[:,['pointIndex','V']].groupby(by=['pointIndex']).sum()\n",
    "    vectorInformation.reset_index(inplace=True)\n",
    "    #apply the square root to the sum\n",
    "    vectorInformation.V = vectorInformation.V.map(lambda x: np.sqrt(x)) \n",
    "    gpsDataPoints = gpsDataPoints.merge(vectorInformation)\n",
    "    return gpsDataPoints\n"
   ]
  },
  {
   "cell_type": "code",
   "execution_count": 12,
   "metadata": {
    "collapsed": false
   },
   "outputs": [],
   "source": [
    "data = loadOSCdata('track.txt')"
   ]
  },
  {
   "cell_type": "code",
   "execution_count": 13,
   "metadata": {
    "collapsed": false
   },
   "outputs": [
    {
     "data": {
      "text/html": [
       "<div>\n",
       "<table border=\"1\" class=\"dataframe\">\n",
       "  <thead>\n",
       "    <tr style=\"text-align: right;\">\n",
       "      <th></th>\n",
       "      <th>timestamp</th>\n",
       "      <th>long</th>\n",
       "      <th>lat</th>\n",
       "      <th>pointIndex</th>\n",
       "      <th>geometry</th>\n",
       "      <th>V</th>\n",
       "    </tr>\n",
       "  </thead>\n",
       "  <tbody>\n",
       "    <tr>\n",
       "      <th>0</th>\n",
       "      <td>2017-04-14 09:35:20.798094</td>\n",
       "      <td>-73.971799</td>\n",
       "      <td>40.643469</td>\n",
       "      <td>49</td>\n",
       "      <td>LINESTRING (-73.97179916 40.64346946, -73.9718...</td>\n",
       "      <td>3.539280</td>\n",
       "    </tr>\n",
       "    <tr>\n",
       "      <th>1</th>\n",
       "      <td>2017-04-14 09:35:21.820354</td>\n",
       "      <td>-73.971850</td>\n",
       "      <td>40.643462</td>\n",
       "      <td>250</td>\n",
       "      <td>LINESTRING (-73.97184982 40.64346192, -73.9719...</td>\n",
       "      <td>5.019699</td>\n",
       "    </tr>\n",
       "    <tr>\n",
       "      <th>2</th>\n",
       "      <td>2017-04-14 09:35:22.788859</td>\n",
       "      <td>-73.971901</td>\n",
       "      <td>40.643456</td>\n",
       "      <td>451</td>\n",
       "      <td>LINESTRING (-73.97190051 40.64345637, -73.9719...</td>\n",
       "      <td>6.229057</td>\n",
       "    </tr>\n",
       "    <tr>\n",
       "      <th>3</th>\n",
       "      <td>2017-04-14 09:35:23.821521</td>\n",
       "      <td>-73.971952</td>\n",
       "      <td>40.643454</td>\n",
       "      <td>656</td>\n",
       "      <td>LINESTRING (-73.97195246 40.64345418, -73.9720...</td>\n",
       "      <td>5.939911</td>\n",
       "    </tr>\n",
       "    <tr>\n",
       "      <th>4</th>\n",
       "      <td>2017-04-14 09:35:24.801281</td>\n",
       "      <td>-73.972003</td>\n",
       "      <td>40.643454</td>\n",
       "      <td>857</td>\n",
       "      <td>LINESTRING (-73.97200278 40.64345402, -73.9720...</td>\n",
       "      <td>5.283252</td>\n",
       "    </tr>\n",
       "  </tbody>\n",
       "</table>\n",
       "</div>"
      ],
      "text/plain": [
       "                   timestamp       long        lat  pointIndex  \\\n",
       "0 2017-04-14 09:35:20.798094 -73.971799  40.643469          49   \n",
       "1 2017-04-14 09:35:21.820354 -73.971850  40.643462         250   \n",
       "2 2017-04-14 09:35:22.788859 -73.971901  40.643456         451   \n",
       "3 2017-04-14 09:35:23.821521 -73.971952  40.643454         656   \n",
       "4 2017-04-14 09:35:24.801281 -73.972003  40.643454         857   \n",
       "\n",
       "                                            geometry         V  \n",
       "0  LINESTRING (-73.97179916 40.64346946, -73.9718...  3.539280  \n",
       "1  LINESTRING (-73.97184982 40.64346192, -73.9719...  5.019699  \n",
       "2  LINESTRING (-73.97190051 40.64345637, -73.9719...  6.229057  \n",
       "3  LINESTRING (-73.97195246 40.64345418, -73.9720...  5.939911  \n",
       "4  LINESTRING (-73.97200278 40.64345402, -73.9720...  5.283252  "
      ]
     },
     "execution_count": 13,
     "metadata": {},
     "output_type": "execute_result"
    }
   ],
   "source": [
    "data.head()"
   ]
  },
  {
   "cell_type": "code",
   "execution_count": 14,
   "metadata": {
    "collapsed": false
   },
   "outputs": [],
   "source": [
    "data.timestamp = data.timestamp.map(lambda x: str(x))\n",
    "data.to_file('data/data.shp')"
   ]
  },
  {
   "cell_type": "code",
   "execution_count": null,
   "metadata": {
    "collapsed": true
   },
   "outputs": [],
   "source": []
  }
 ],
 "metadata": {
  "anaconda-cloud": {},
  "kernelspec": {
   "display_name": "Python [conda root]",
   "language": "python",
   "name": "conda-root-py"
  },
  "language_info": {
   "codemirror_mode": {
    "name": "ipython",
    "version": 2
   },
   "file_extension": ".py",
   "mimetype": "text/x-python",
   "name": "python",
   "nbconvert_exporter": "python",
   "pygments_lexer": "ipython2",
   "version": "2.7.12"
  }
 },
 "nbformat": 4,
 "nbformat_minor": 1
}
